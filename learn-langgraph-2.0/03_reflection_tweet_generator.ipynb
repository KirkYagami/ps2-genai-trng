{
 "cells": [
  {
   "cell_type": "markdown",
   "id": "63f92cef-de50-4f5a-a4c2-8b1420428383",
   "metadata": {},
   "source": [
    "# Reflection with LangChain (Tweet Generator)"
   ]
  },
  {
   "cell_type": "code",
   "execution_count": 1,
   "id": "aca2eb70-fb8f-4145-9a8c-c2cad74f1cee",
   "metadata": {},
   "outputs": [
    {
     "name": "stdout",
     "output_type": "stream",
     "text": [
      "\n",
      "\u001b[1m[\u001b[0m\u001b[34;49mnotice\u001b[0m\u001b[1;39;49m]\u001b[0m\u001b[39;49m A new release of pip is available: \u001b[0m\u001b[31;49m25.1.1\u001b[0m\u001b[39;49m -> \u001b[0m\u001b[32;49m25.2\u001b[0m\n",
      "\u001b[1m[\u001b[0m\u001b[34;49mnotice\u001b[0m\u001b[1;39;49m]\u001b[0m\u001b[39;49m To update, run: \u001b[0m\u001b[32;49mpip install --upgrade pip\u001b[0m\n",
      "Note: you may need to restart the kernel to use updated packages.\n"
     ]
    }
   ],
   "source": [
    "pip install --upgrade -q openai langchain langchain-openai langchain-community langgraph"
   ]
  },
  {
   "cell_type": "code",
   "execution_count": 2,
   "id": "4f8dfcaa-a621-4f76-86ab-34b13c3fe974",
   "metadata": {},
   "outputs": [],
   "source": [
    "# pip install -q langsmith"
   ]
  },
  {
   "cell_type": "markdown",
   "id": "9af2aaf6-a0be-47e6-be57-0827c79df3ae",
   "metadata": {},
   "source": [
    "## Generate"
   ]
  },
  {
   "cell_type": "code",
   "execution_count": 3,
   "id": "9550385e-3137-4fb5-bc17-2aed2933ef59",
   "metadata": {},
   "outputs": [
    {
     "data": {
      "text/plain": [
       "True"
      ]
     },
     "execution_count": 3,
     "metadata": {},
     "output_type": "execute_result"
    }
   ],
   "source": [
    "# loading the API keys\n",
    "from dotenv import load_dotenv, find_dotenv\n",
    "load_dotenv(find_dotenv(), override=True)"
   ]
  },
  {
   "cell_type": "code",
   "execution_count": 4,
   "id": "a1cdae92-3b46-4999-bba9-8befdf168a84",
   "metadata": {},
   "outputs": [],
   "source": [
    "# importing the necessary libraries\n",
    "from langchain_core.messages import AIMessage, BaseMessage, HumanMessage\n",
    "from langchain_core.prompts import ChatPromptTemplate, MessagesPlaceholder\n",
    "from langchain_openai import ChatOpenAI"
   ]
  },
  {
   "cell_type": "code",
   "execution_count": 5,
   "id": "d93012a9-6085-4d4f-b710-df72fcafd2f0",
   "metadata": {},
   "outputs": [],
   "source": [
    "# creating a chat prompt template\n",
    "generation_prompt = ChatPromptTemplate.from_messages(\n",
    "    [\n",
    "        (\n",
    "            'system',\n",
    "            '''You are a Twitter expert assigned to craft outstanding tweets.\n",
    "            Generate the most engaging and impactful tweet possible based on the user's request.\n",
    "            If the user provides feedback, refine and enhance your previous attempts accordingly for maximum engagement.''',\n",
    "        ),\n",
    "        MessagesPlaceholder(variable_name='messages'),\n",
    "    ]\n",
    ")\n",
    "\n",
    "llm = ChatOpenAI(model_name='gpt-4o-mini', temperature=0.7)\n",
    "\n",
    "# using LCEL to create the generate_chain\n",
    "generate_chain  = generation_prompt | llm"
   ]
  },
  {
   "cell_type": "code",
   "execution_count": 6,
   "id": "a51870e7-0621-47cd-9cfe-5fd0d6aef4c7",
   "metadata": {},
   "outputs": [
    {
     "data": {
      "text/plain": [
       "ChatPromptTemplate(input_variables=['messages'], input_types={'messages': list[typing.Annotated[typing.Union[typing.Annotated[langchain_core.messages.ai.AIMessage, Tag(tag='ai')], typing.Annotated[langchain_core.messages.human.HumanMessage, Tag(tag='human')], typing.Annotated[langchain_core.messages.chat.ChatMessage, Tag(tag='chat')], typing.Annotated[langchain_core.messages.system.SystemMessage, Tag(tag='system')], typing.Annotated[langchain_core.messages.function.FunctionMessage, Tag(tag='function')], typing.Annotated[langchain_core.messages.tool.ToolMessage, Tag(tag='tool')], typing.Annotated[langchain_core.messages.ai.AIMessageChunk, Tag(tag='AIMessageChunk')], typing.Annotated[langchain_core.messages.human.HumanMessageChunk, Tag(tag='HumanMessageChunk')], typing.Annotated[langchain_core.messages.chat.ChatMessageChunk, Tag(tag='ChatMessageChunk')], typing.Annotated[langchain_core.messages.system.SystemMessageChunk, Tag(tag='SystemMessageChunk')], typing.Annotated[langchain_core.messages.function.FunctionMessageChunk, Tag(tag='FunctionMessageChunk')], typing.Annotated[langchain_core.messages.tool.ToolMessageChunk, Tag(tag='ToolMessageChunk')]], FieldInfo(annotation=NoneType, required=True, discriminator=Discriminator(discriminator=<function _get_type at 0x74c6b012b6a0>, custom_error_type=None, custom_error_message=None, custom_error_context=None))]]}, partial_variables={}, messages=[SystemMessagePromptTemplate(prompt=PromptTemplate(input_variables=[], input_types={}, partial_variables={}, template=\"You are a Twitter expert assigned to craft outstanding tweets.\\n            Generate the most engaging and impactful tweet possible based on the user's request.\\n            If the user provides feedback, refine and enhance your previous attempts accordingly for maximum engagement.\"), additional_kwargs={}), MessagesPlaceholder(variable_name='messages')])\n",
       "| ChatOpenAI(client=<openai.resources.chat.completions.completions.Completions object at 0x74c69aba3a10>, async_client=<openai.resources.chat.completions.completions.AsyncCompletions object at 0x74c69a5cc590>, root_client=<openai.OpenAI object at 0x74c69aba1400>, root_async_client=<openai.AsyncOpenAI object at 0x74c69a5cc2f0>, model_name='gpt-4o-mini', temperature=0.7, model_kwargs={}, openai_api_key=SecretStr('**********'))"
      ]
     },
     "execution_count": 6,
     "metadata": {},
     "output_type": "execute_result"
    }
   ],
   "source": [
    "generate_chain"
   ]
  },
  {
   "cell_type": "code",
   "execution_count": 7,
   "id": "a7522f7a-2126-4189-afba-3c16dc2a67c0",
   "metadata": {},
   "outputs": [
    {
     "name": "stdout",
     "output_type": "stream",
     "text": [
      "🏆 Get ready for the ultimate showdown! The FIFA World Cup 2026 is set to be a historic celebration of soccer, uniting fans across the globe! 🌍⚽️ From thrilling matches to unforgettable moments, who are you rooting for? Let the countdown begin! #WorldCup2026 #SoccerUnites #DreamBig 🌟"
     ]
    }
   ],
   "source": [
    "tweet = ''\n",
    "request = HumanMessage(\n",
    "    content='FIFA World Cup 26'\n",
    ")\n",
    "\n",
    "for chunk in generate_chain.stream(\n",
    "    {'messages': [request]}\n",
    "): \n",
    "    print(chunk.content, end='')\n",
    "    tweet += chunk.content"
   ]
  },
  {
   "cell_type": "markdown",
   "id": "d18746ad-08e9-4a61-863e-a79866a2abc9",
   "metadata": {},
   "source": [
    "## Reflect and Repeat"
   ]
  },
  {
   "cell_type": "code",
   "execution_count": 8,
   "id": "0626a4da-eb2f-48b8-b3aa-6855a29ad83a",
   "metadata": {},
   "outputs": [],
   "source": [
    "reflection_prompt = ChatPromptTemplate.from_messages(\n",
    "    [\n",
    "        (\n",
    "            'system',\n",
    "            '''You are a Twitter influencer known for your engaging content and sharp insights.\n",
    "            Review and critique the user’s tweet.\n",
    "            Provide constructive feedback, focusing on enhancing its depth, style, and overall impact.\n",
    "            Offer specific suggestions to make the tweet more compelling and engaging for their audience.'''\n",
    "        ),\n",
    "        MessagesPlaceholder(variable_name='messages'),\n",
    "    ]\n",
    ")\n",
    "\n",
    "reflect_chain  = reflection_prompt | llm"
   ]
  },
  {
   "cell_type": "code",
   "execution_count": 9,
   "id": "109e3d64-4cfc-4d18-8346-71b658c78300",
   "metadata": {},
   "outputs": [
    {
     "data": {
      "text/plain": [
       "ChatPromptTemplate(input_variables=['messages'], input_types={'messages': list[typing.Annotated[typing.Union[typing.Annotated[langchain_core.messages.ai.AIMessage, Tag(tag='ai')], typing.Annotated[langchain_core.messages.human.HumanMessage, Tag(tag='human')], typing.Annotated[langchain_core.messages.chat.ChatMessage, Tag(tag='chat')], typing.Annotated[langchain_core.messages.system.SystemMessage, Tag(tag='system')], typing.Annotated[langchain_core.messages.function.FunctionMessage, Tag(tag='function')], typing.Annotated[langchain_core.messages.tool.ToolMessage, Tag(tag='tool')], typing.Annotated[langchain_core.messages.ai.AIMessageChunk, Tag(tag='AIMessageChunk')], typing.Annotated[langchain_core.messages.human.HumanMessageChunk, Tag(tag='HumanMessageChunk')], typing.Annotated[langchain_core.messages.chat.ChatMessageChunk, Tag(tag='ChatMessageChunk')], typing.Annotated[langchain_core.messages.system.SystemMessageChunk, Tag(tag='SystemMessageChunk')], typing.Annotated[langchain_core.messages.function.FunctionMessageChunk, Tag(tag='FunctionMessageChunk')], typing.Annotated[langchain_core.messages.tool.ToolMessageChunk, Tag(tag='ToolMessageChunk')]], FieldInfo(annotation=NoneType, required=True, discriminator=Discriminator(discriminator=<function _get_type at 0x74c6b012b6a0>, custom_error_type=None, custom_error_message=None, custom_error_context=None))]]}, partial_variables={}, messages=[SystemMessagePromptTemplate(prompt=PromptTemplate(input_variables=[], input_types={}, partial_variables={}, template='You are a Twitter influencer known for your engaging content and sharp insights.\\n            Review and critique the user’s tweet.\\n            Provide constructive feedback, focusing on enhancing its depth, style, and overall impact.\\n            Offer specific suggestions to make the tweet more compelling and engaging for their audience.'), additional_kwargs={}), MessagesPlaceholder(variable_name='messages')])\n",
       "| ChatOpenAI(client=<openai.resources.chat.completions.completions.Completions object at 0x74c69aba3a10>, async_client=<openai.resources.chat.completions.completions.AsyncCompletions object at 0x74c69a5cc590>, root_client=<openai.OpenAI object at 0x74c69aba1400>, root_async_client=<openai.AsyncOpenAI object at 0x74c69a5cc2f0>, model_name='gpt-4o-mini', temperature=0.7, model_kwargs={}, openai_api_key=SecretStr('**********'))"
      ]
     },
     "execution_count": 9,
     "metadata": {},
     "output_type": "execute_result"
    }
   ],
   "source": [
    "reflect_chain"
   ]
  },
  {
   "cell_type": "code",
   "execution_count": 10,
   "id": "c8751901-df39-418a-83e8-ed2f70870af1",
   "metadata": {
    "scrolled": true
   },
   "outputs": [
    {
     "name": "stdout",
     "output_type": "stream",
     "text": [
      "This tweet certainly captures the excitement surrounding the FIFA World Cup 2026, but there are some areas where you could enhance its depth, style, and overall impact. Here are a few suggestions:\n",
      "\n",
      "1. **Add a Personal Touch**: Consider sharing a personal connection to the World Cup or a memorable experience from past tournaments. This can create a stronger bond with your audience.\n",
      "\n",
      "   **Example**: “I still remember the thrill of [specific moment from a past World Cup]. Who else is feeling that excitement as we gear up for #WorldCup2026? 🌍⚽️”\n",
      "\n",
      "2. **Engage with a Question**: You’ve asked who people are rooting for, which is great! You could deepen engagement by asking more specific questions, like favorite teams or players, or even predictions.\n",
      "\n",
      "   **Example**: “Which underdog team do you think will surprise us this year? Let’s hear your predictions! #WorldCup2026”\n",
      "\n",
      "3. **Use Strong Visuals**: While emojis add flair, consider incorporating a striking image or GIF related to the World Cup to make the tweet more visually appealing.\n",
      "\n",
      "4. **Add a Call to Action**: Encourage followers to share their thoughts or tag friends who are also excited about the event. This can increase interaction.\n",
      "\n",
      "   **Example**: “Tag your soccer buddies and let’s make this countdown even more exciting! 🏆🌟”\n",
      "\n",
      "5. **Enhance the Language**: Consider using more vivid language to evoke emotions. Instead of “ultimate showdown,” you could use “epic clash of titans” or “battle for glory,” which adds drama.\n",
      "\n",
      "6. **Include Fun Facts or Stats**: Adding an interesting fact about the World Cup or its history can spark curiosity and give your tweet more substance.\n",
      "\n",
      "   **Example**: “Did you know that the first World Cup was held in 1930? As we approach #WorldCup2026, let’s celebrate the rich history of this incredible tournament!”\n",
      "\n",
      "Here’s a revised version of your tweet incorporating these suggestions:\n",
      "\n",
      "🏆 As we gear up for the epic clash of titans at #WorldCup2026, I can’t help but reminisce about [memorable World Cup moment]. 🌍⚽️ Who are you rooting for this year, and which underdog team do you think will surprise us? Tag your soccer buddies, and let’s make this countdown unforgettable! 🌟 Did you know the first World Cup was held in 1930? Let’s celebrate the history of soccer together! #SoccerUnites #DreamBig\n",
      "\n",
      "By adding these elements, your tweet can become more engaging and evoke a deeper connection with your audience. Happy tweeting!"
     ]
    }
   ],
   "source": [
    "reflection = ''\n",
    "# streaming the response\n",
    "for chunk in reflect_chain.stream(\n",
    "    {'messages': [request, HumanMessage(content=tweet)]}\n",
    "):\n",
    "    print(chunk.content, end='')\n",
    "    reflection += chunk.content\n"
   ]
  },
  {
   "cell_type": "code",
   "execution_count": 11,
   "id": "a9c72c62-0159-4ad5-b614-153d1a3c834c",
   "metadata": {},
   "outputs": [
    {
     "name": "stdout",
     "output_type": "stream",
     "text": [
      "Absolutely love the feedback! Here’s a revised tweet that incorporates your suggestions for more depth, engagement, and excitement:\n",
      "\n",
      "🏆 As we gear up for the epic clash of titans at #WorldCup2026, I can't help but reminisce about the thrill of 2014's last-minute goal! 🌍⚽️ Who are you rooting for this year, and which underdog team do you think will surprise us? Tag your soccer buddies and let’s make this countdown unforgettable! 🌟 Did you know the first World Cup was held in 1930? Let’s celebrate the rich history of this incredible tournament together! #SoccerUnites #DreamBig\n",
      "\n",
      "What do you think? Ready to spark some conversation?"
     ]
    }
   ],
   "source": [
    "for chunk in generate_chain.stream(\n",
    "    {'messages': [request, AIMessage(content=tweet), HumanMessage(content=reflection)]}\n",
    "):\n",
    "    print(chunk.content, end='')"
   ]
  },
  {
   "cell_type": "markdown",
   "id": "2550062d-3089-438b-9aba-144c24f2d589",
   "metadata": {},
   "source": [
    "## Define the Graph"
   ]
  },
  {
   "cell_type": "code",
   "execution_count": 12,
   "id": "d7e055be-260d-4467-b2f1-84f37a2c83f6",
   "metadata": {},
   "outputs": [],
   "source": [
    "from typing import List, Sequence\n",
    "from langgraph.graph import END, MessageGraph"
   ]
  },
  {
   "cell_type": "code",
   "execution_count": 13,
   "id": "cf208506-04d4-4c32-99b3-1d6019165c55",
   "metadata": {},
   "outputs": [
    {
     "name": "stderr",
     "output_type": "stream",
     "text": [
      "/tmp/ipykernel_133465/2297294772.py:18: LangGraphDeprecatedSinceV10: MessageGraph is deprecated in LangGraph v1.0.0, to be removed in v2.0.0. Please use StateGraph with a `messages` key instead. Deprecated in LangGraph V1.0 to be removed in V2.0.\n",
      "  builder = MessageGraph()\n"
     ]
    }
   ],
   "source": [
    "# defining a function for the generation node\n",
    "def generation_node(state: Sequence[BaseMessage]):\n",
    "    return generate_chain.invoke({'messages': state})\n",
    "\n",
    "# defining a function for the reflection node\n",
    "def reflection_node(messages: Sequence[BaseMessage]) -> List[BaseMessage]:\n",
    "    # messages we need to adjust\n",
    "    cls_map = {'ai': HumanMessage, 'human': AIMessage}\n",
    "    # First message is the original user request. We keep it the same for all nodes\n",
    "    translated = [messages[0]] + [\n",
    "    cls_map[msg.type](content=msg.content) for msg in messages[1:]\n",
    "    ]\n",
    "    res = reflect_chain.invoke({'messages': translated})\n",
    "    # We treat the output (AI message) of this as human feedback for the generator\n",
    "    return HumanMessage(content=res.content)\n",
    "\n",
    "# initializing the MessageGraph and adding two nodes to the graph: generate and reflect.\n",
    "builder = MessageGraph()\n",
    "builder.add_node('generate', generation_node)\n",
    "builder.add_node('reflect', reflection_node)\n",
    "\n",
    "# setting the generate node as the starting point\n",
    "builder.set_entry_point('generate')\n",
    "\n",
    "MAX_ITERATIONS = 5\n",
    "def should_continue(state: List[BaseMessage]):\n",
    "    if len(state) > MAX_ITERATIONS:\n",
    "        return END\n",
    "    return 'reflect'\n",
    "\n",
    "# adding a conditional edge to the graph\n",
    "builder.add_conditional_edges('generate', should_continue)\n",
    "builder.add_edge('reflect', 'generate')\n",
    "\n",
    "# compiling the graph\n",
    "graph = builder.compile()"
   ]
  },
  {
   "cell_type": "code",
   "execution_count": 17,
   "id": "0dd11f74-c966-41e3-9809-699e2efe95c9",
   "metadata": {},
   "outputs": [],
   "source": [
    "# !!! See below how to upgrade the code for the latest version of LangGraph and remove the warning above"
   ]
  },
  {
   "cell_type": "code",
   "execution_count": 14,
   "id": "ec773153-9fa2-4586-9d0d-6995a41d56f9",
   "metadata": {},
   "outputs": [
    {
     "data": {
      "image/png": "[encoded data removed]",
      "text/plain": [
       "<IPython.core.display.Image object>"
      ]
     },
     "metadata": {},
     "output_type": "display_data"
    }
   ],
   "source": [
    "from IPython.display import Image, display\n",
    "display(Image(graph.get_graph().draw_mermaid_png()))"
   ]
  },
  {
   "cell_type": "markdown",
   "id": "465e0324-734f-4b98-99b8-dd2f052a3a78",
   "metadata": {},
   "source": [
    "## Running the App"
   ]
  },
  {
   "cell_type": "code",
   "execution_count": 15,
   "id": "157ca9e2-5081-4ac9-8d8e-d4d4293b17d5",
   "metadata": {},
   "outputs": [],
   "source": [
    "inputs = HumanMessage(content='Generate a tweed about FIFA World Cup 26')\n",
    "response = graph.invoke(inputs)"
   ]
  },
  {
   "cell_type": "code",
   "execution_count": 16,
   "id": "d1babb43-265a-418a-9ef3-9508a435c525",
   "metadata": {},
   "outputs": [
    {
     "name": "stdout",
     "output_type": "stream",
     "text": [
      "Generate a tweed about FIFA World Cup 26\n",
      "\n",
      "----------------------------------------------------------------------------------------------------\n",
      "\n",
      "🌍⚽ Countdown to the #FIFAWorldCup2026! 🎉 Get ready for the ultimate football festival as three nations unite to host the world's greatest sporting event! 🇺🇸🇨🇦🇲🇽 Who are you cheering for? Let the excitement begin! 🏆🔥 #WorldCup2026 #FootballFever\n",
      "\n",
      "----------------------------------------------------------------------------------------------------\n",
      "\n",
      "Your tweet sets a vibrant tone and effectively engages your audience with emojis and hashtags! However, we can enhance its depth and style to make it more impactful. Here’s a critique and some suggestions:\n",
      "\n",
      "### Critique & Suggestions:\n",
      "\n",
      "1. **Depth and Insight**:\n",
      "   - While the excitement is palpable, consider adding a fact or interesting statistic about the World Cup 2026. For instance, you could mention the number of teams participating or the significance of hosting across three countries.\n",
      "   - Suggestion: “🌍⚽ Countdown to the #FIFAWorldCup2026! 🎉 Did you know this will be the first World Cup with 48 teams? 🇺🇸🇨🇦🇲🇽 Let’s celebrate football like never before! Who are you cheering for? 🏆🔥 #WorldCup2026 #FootballFever”\n",
      "\n",
      "2. **Call to Action**:\n",
      "   - Engage your audience more by asking a specific question that prompts replies. For example, you could ask about favorite players or memorable moments from past World Cups.\n",
      "   - Suggestion: “🌍⚽ Countdown to the #FIFAWorldCup2026! 🎉 Did you know this will be the first World Cup with 48 teams? 🇺🇸🇨🇦🇲🇽 Let’s celebrate football like never before! Who’s your favorite player to watch this year? 🏆🔥 #WorldCup2026 #FootballFever”\n",
      "\n",
      "3. **Stylistic Choices**:\n",
      "   - Consider varying your emoji use to emphasize different parts of the tweet without overwhelming it. For example, use fewer emojis or place them strategically for emphasis.\n",
      "   - Suggestion: \"🌍⚽ Countdown to the #FIFAWorldCup2026! 🎉 With 48 teams competing across 🇺🇸, 🇨🇦, and 🇲🇽, this is set to be the biggest football festival yet! Who's your favorite player to watch this year? 🏆 #WorldCup2026 #FootballFever\"\n",
      "\n",
      "### Revised Tweet:\n",
      "\"🌍⚽ Countdown to the #FIFAWorldCup2026! 🎉 With 48 teams competing across 🇺🇸, 🇨🇦, and 🇲🇽, this is set to be the biggest football festival yet! Who's your favorite player to watch this year? 🏆🔥 #WorldCup2026 #FootballFever\"\n",
      "\n",
      "This version maintains your original excitement while adding depth and a clearer call to action. Keep engaging your followers with your passion for football!\n",
      "\n",
      "----------------------------------------------------------------------------------------------------\n",
      "\n",
      "Thank you for the insightful feedback! Here’s the refined tweet incorporating your suggestions for more depth and engagement: \n",
      "\n",
      "🌍⚽ Countdown to the #FIFAWorldCup2026! 🎉 With 48 teams competing across 🇺🇸, 🇨🇦, and 🇲🇽, this is set to be the biggest football festival yet! Who’s your favorite player to watch this year? 🏆🔥 Let the countdown begin! #WorldCup2026 #FootballFever\n",
      "\n",
      "Let me know if there's anything else you'd like to enhance or change!\n",
      "\n",
      "----------------------------------------------------------------------------------------------------\n",
      "\n",
      "Your refined tweet looks fantastic! You've successfully incorporated depth and engagement, making it more compelling for your audience. Here are a few additional suggestions to fine-tune it even further:\n",
      "\n",
      "### Minor Enhancements:\n",
      "\n",
      "1. **Urgency and Excitement**:\n",
      "   - You could emphasize the countdown aspect even more by specifying how many days are left until the World Cup starts. This adds a sense of urgency and excitement. If the date is known, it could be a great addition!\n",
      "   - Example: “🌍⚽ Countdown to the #FIFAWorldCup2026 in [X days]! 🎉”\n",
      "\n",
      "2. **Engagement Prompt**:\n",
      "   - You might encourage your audience to not only name their favorite player but also share why or a memorable moment related to that player. This could generate richer interactions.\n",
      "   - Example: “Who’s your favorite player to watch this year, and what’s your favorite moment from them? 🏆🔥”\n",
      "\n",
      "### Suggested Revised Tweet:\n",
      "\"🌍⚽ Countdown to the #FIFAWorldCup2026 in [X days]! 🎉 With 48 teams competing across 🇺🇸, 🇨🇦, and 🇲🇽, this is set to be the biggest football festival yet! Who’s your favorite player to watch this year, and what’s your favorite moment from them? 🏆🔥 Let the countdown begin! #WorldCup2026 #FootballFever\"\n",
      "\n",
      "### Final Note:\n",
      "If you include the number of days until the event, be sure to update it as the date approaches. This keeps your content fresh and relevant! Overall, you’re on the right track, and your enthusiasm is contagious. Keep up the great work!\n",
      "\n",
      "----------------------------------------------------------------------------------------------------\n",
      "\n",
      "Thank you for the additional enhancements! Here's the final tweet with your suggestions incorporated, including a placeholder for the countdown:\n",
      "\n",
      "🌍⚽ Countdown to the #FIFAWorldCup2026 in [X days]! 🎉 With 48 teams competing across 🇺🇸, 🇨🇦, and 🇲🇽, this is set to be the biggest football festival yet! Who’s your favorite player to watch this year, and what’s your favorite moment from them? 🏆🔥 Let the countdown begin! #WorldCup2026 #FootballFever\n",
      "\n",
      "Once you have the specific number of days, just fill in [X days] to keep the excitement alive! Let me know if there's anything else you'd like to adjust!\n",
      "\n",
      "----------------------------------------------------------------------------------------------------\n",
      "\n"
     ]
    }
   ],
   "source": [
    "for resp in response:\n",
    "    print(resp.content)\n",
    "    print('\\n' + '-' * 100 + '\\n')"
   ]
  },
  {
   "cell_type": "markdown",
   "id": "c0367567-8857-4bf7-918c-c081876f4090",
   "metadata": {},
   "source": [
    "### Code Upgrade for the latest version of LangGraph"
   ]
  },
  {
   "cell_type": "code",
   "execution_count": 22,
   "id": "e32adc5b-00f3-468d-8f52-a3206df9ebae",
   "metadata": {},
   "outputs": [],
   "source": [
    "# 1. Define your state schema\n",
    "# First, define a TypedDict to structure your state, with the \"messages\" key to accumulate messages via a reducer like add_messages.\n",
    "# This ensures that each node’s messages get appended, not overwritten. \n",
    "\n",
    "from typing import Annotated\n",
    "from typing_extensions import TypedDict\n",
    "from langchain_core.messages import BaseMessage, HumanMessage, AIMessage\n",
    "from langgraph.graph import StateGraph, END\n",
    "from langgraph.graph.message import add_messages\n",
    "\n",
    "# Assume you already have these chains defined above:\n",
    "# generate_chain, reflect_chain\n",
    "\n",
    "# ---- State schema ----\n",
    "class State(TypedDict):\n",
    "    # Accumulate messages across nodes\n",
    "    messages: Annotated[list[BaseMessage], add_messages]\n",
    "\n",
    "    \n",
    "# 2. Define your nodes as State → State transitions\n",
    "\n",
    "# ---- Nodes ----\n",
    "def generation_node(state: State) -> dict:\n",
    "    \"\"\"Call the generator with the running message history and append its reply.\"\"\"\n",
    "    ai_msg: BaseMessage = generate_chain.invoke({\"messages\": state[\"messages\"]})\n",
    "    return {\"messages\": [ai_msg]}\n",
    "\n",
    "def reflection_node(state: State) -> dict:\n",
    "    \"\"\"\n",
    "    Reflect on the conversation so far and append feedback as a HumanMessage\n",
    "    (so the generator treats it like human guidance).\n",
    "    \"\"\"\n",
    "    cls_map = {\"ai\": HumanMessage, \"human\": AIMessage}\n",
    "    msgs = state[\"messages\"]\n",
    "    translated = [msgs[0]] + [cls_map[m.type](content=m.content) for m in msgs[1:]]\n",
    "    res: BaseMessage = reflect_chain.invoke({\"messages\": translated})\n",
    "    return {\"messages\": [HumanMessage(content=res.content)]}\n",
    "\n",
    "# ---- Control flow ----\n",
    "MAX_ITERATIONS = 3\n",
    "\n",
    "def should_continue(state: State):\n",
    "    \"\"\"Stop after MAX_ITERATIONS generated messages, otherwise go to 'reflect'.\"\"\"\n",
    "    if len(state[\"messages\"]) > MAX_ITERATIONS:\n",
    "        return END\n",
    "    return \"reflect\"\n",
    "\n",
    "\n",
    "# 3. Build your StateGraph instead of MessageGraph\n",
    "\n",
    "# ---- Build graph ----\n",
    "builder = StateGraph(state_schema=State)\n",
    "builder.add_node(\"generate\", generation_node)\n",
    "builder.add_node(\"reflect\", reflection_node)\n",
    "\n",
    "builder.set_entry_point(\"generate\")\n",
    "builder.add_conditional_edges(\"generate\", should_continue)\n",
    "builder.add_edge(\"reflect\", \"generate\")\n",
    "\n",
    "# ---- Compile ----\n",
    "graph = builder.compile()\n"
   ]
  },
  {
   "cell_type": "code",
   "execution_count": null,
   "id": "d1874452-d6ac-40de-87e3-9f86601c95a5",
   "metadata": {},
   "outputs": [],
   "source": []
  },
  {
   "cell_type": "code",
   "execution_count": 23,
   "id": "7155bc56-5f97-4aae-9d54-b3362a05fb00",
   "metadata": {},
   "outputs": [
    {
     "name": "stdout",
     "output_type": "stream",
     "text": [
      "Generate a tweet about FIFA World Cup 26\n",
      "\n",
      "----------------------------------------------------------------------------------------------------\n",
      "\n",
      "🌍⚽️ Get ready for the ultimate showdown! The FIFA World Cup 2026 is coming to North America! 🇺🇸🇨🇦🇲🇽 Who will lift the trophy? 🏆 Let the countdown begin as we celebrate the beautiful game and unite fans from all over the globe! #FIFAWorldCup2026 #SoccerLove #OneGameOneDream\n",
      "\n",
      "----------------------------------------------------------------------------------------------------\n",
      "\n",
      "Your tweet captures the excitement around the FIFA World Cup 2026 well, and the use of emojis adds a fun touch! However, there are a few ways you could enhance its depth and engagement:\n",
      "\n",
      "1. **Add a Unique Angle**: Instead of a general call to action, consider highlighting something specific about the tournament, like its historical significance, the diversity of host countries, or a star player to watch.\n",
      "\n",
      "2. **Pose a Question**: Engage your audience more directly by asking them to share their predictions or favorite moments from past World Cups. This invites interaction and can boost engagement.\n",
      "\n",
      "3. **Use a Strong Call to Action**: Encourage followers to share their thoughts or memories related to the World Cup, which can foster a sense of community.\n",
      "\n",
      "4. **Include a Hashtag**: While you have a few good hashtags, consider adding one that’s more unique or trending to attract more attention.\n",
      "\n",
      "Here’s a revised version of your tweet incorporating these suggestions:\n",
      "\n",
      "🌍⚽️ The stage is set for the FIFA World Cup 2026 in North America! 🇺🇸🇨🇦🇲🇽 With historic matches ahead, who do you think will lift the trophy? 🏆 Share your predictions and favorite WC memories below! Let’s unite for the beautiful game! #FIFAWorldCup2026 #SoccerLove #GoalToGlory\n",
      "\n",
      "This version encourages engagement while maintaining the excitement and inclusiveness of your original tweet!\n",
      "\n",
      "----------------------------------------------------------------------------------------------------\n",
      "\n",
      "🌍⚽️ The stage is set for the FIFA World Cup 2026 in North America! 🇺🇸🇨🇦🇲🇽 With historic matches on the horizon, who will lift the trophy? 🏆 Share your predictions and favorite WC memories below! Let’s unite for the beautiful game! #FIFAWorldCup2026 #SoccerLove #GoalToGlory 🥅✨\n",
      "\n",
      "----------------------------------------------------------------------------------------------------\n",
      "\n"
     ]
    }
   ],
   "source": [
    "from langchain_core.messages import HumanMessage\n",
    "\n",
    "# NEW: pass a state dict with a \"messages\" list\n",
    "inputs = {\"messages\": [HumanMessage(content=\"Generate a tweet about FIFA World Cup 26\")]}\n",
    "\n",
    "# Invoke the graph and get the final state back\n",
    "final_state = graph.invoke(inputs)\n",
    "\n",
    "# Print all messages in the final state\n",
    "for msg in final_state[\"messages\"]:\n",
    "    print(msg.content)\n",
    "    print(\"\\n\" + \"-\" * 100 + \"\\n\")\n"
   ]
  },
  {
   "cell_type": "code",
   "execution_count": null,
   "id": "91b95565-c1fc-41d1-b8c9-861c830302a2",
   "metadata": {},
   "outputs": [],
   "source": []
  }
 ],
 "metadata": {
  "kernelspec": {
   "display_name": "Python 3 (ipykernel)",
   "language": "python",
   "name": "python3"
  },
  "language_info": {
   "codemirror_mode": {
    "name": "ipython",
    "version": 3
   },
   "file_extension": ".py",
   "mimetype": "text/x-python",
   "name": "python",
   "nbconvert_exporter": "python",
   "pygments_lexer": "ipython3",
   "version": "3.13.7"
  },
  "widgets": {
   "application/vnd.jupyter.widget-state+json": {
    "state": {},
    "version_major": 2,
    "version_minor": 0
   }
  }
 },
 "nbformat": 4,
 "nbformat_minor": 5
}
