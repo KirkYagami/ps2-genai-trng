{
 "cells": [
  {
   "cell_type": "markdown",
   "id": "75f598af",
   "metadata": {},
   "source": [
    "# Streaming responses\n",
    "By default, the model returns a response only after the entire generation process is complete.\n",
    "\n",
    "For more fluid interactions, use streaming to receive `GenerateContentResponse` instances incrementally as they're generated."
   ]
  },
  {
   "cell_type": "code",
   "execution_count": 4,
   "id": "ad9b31e3",
   "metadata": {},
   "outputs": [
    {
     "name": "stdout",
     "output_type": "stream",
     "text": [
      "AI isn't a single magical entity, but rather a vast field of computer science focused on creating machines that can perform tasks that typically require human intelligence.\n",
      "\n",
      "At its core, **AI works by processing large amounts of data, identifying patterns within that data, and then using those patterns to make decisions or predictions.**\n",
      "\n",
      "Let's break down the fundamental concepts:\n",
      "\n",
      "---\n",
      "\n",
      "### The Core Pillars of AI\n",
      "\n",
      "1.  **Data:** This is the fuel for AI. AI models learn from vast datasets, which can include images, text, audio, numerical figures, and more. The quality and quantity of this data directly impact the AI's performance.\n",
      "\n",
      "2.  **Algorithms:** These are the \"recipes\" or sets of rules that the AI follows to process data, identify patterns, and make decisions. They are mathematical models that define how the AI will learn and operate.\n",
      "\n",
      "3.  **Training:** This is the learning phase. An AI model is \"fed\" a large dataset, and the algorithm is used to adjust the model's internal parameters (like weights and biases in a neural network) so that it gets better at performing its intended task. This is an iterative process where the AI makes predictions, compares them to the correct answers (if available), and adjusts itself to minimize errors.\n",
      "\n",
      "4.  **Inference/Prediction:** Once an AI model is trained, it can be deployed to make predictions or decisions on *new, unseen data*. For example, a trained image recognition AI can identify objects in a new photo it has never seen before.\n",
      "\n",
      "---\n",
      "\n",
      "### How AI \"Learns\" (Focus on Machine Learning & Deep Learning)\n",
      "\n",
      "Most modern AI capabilities stem from **Machine Learning (ML)**, a subset of AI, and its sub-field **Deep Learning (DL)**.\n",
      "\n",
      "#### 1. Machine Learning (ML):\n",
      "ML algorithms are designed to learn from data without being explicitly programmed for every possible scenario.\n",
      "\n",
      "*   **Supervised Learning:** This is the most common type.\n",
      "    *   **How it works:** The AI is trained on *labeled data*, meaning each piece of data comes with the correct answer.\n",
      "    *   **Analogy:** Like teaching a child by showing them pictures of different animals and telling them, \"This is a cat,\" \"This is a dog.\" The child learns to differentiate based on features.\n",
      "    *   **Examples:** Image classification (is this a hot dog or not?), spam detection (is this email spam?), predicting house prices.\n",
      "    *   **Process:**\n",
      "        1.  Input labeled data (e.g., thousands of emails marked \"spam\" or \"not spam\").\n",
      "        2.  The algorithm tries to find patterns that distinguish spam from non-spam.\n",
      "        3.  It makes a prediction on new data.\n",
      "        4.  If the prediction is wrong, it adjusts its internal parameters to learn from the mistake.\n",
      "        5.  This process repeats many times until the model is highly accurate.\n",
      "\n",
      "*   **Unsupervised Learning:**\n",
      "    *   **How it works:** The AI is given *unlabeled data* and must find patterns or structures on its own.\n",
      "    *   **Analogy:** Like giving a child a pile of mixed toys and asking them to sort them into groups that make sense (e.g., by color, by size, by type).\n",
      "    *   **Examples:** Customer segmentation (grouping customers with similar buying habits), anomaly detection (finding unusual network activity), data compression.\n",
      "\n",
      "*   **Reinforcement Learning:**\n",
      "    *   **How it works:** The AI learns by trial and error, receiving rewards for good actions and penalties for bad ones, like a game.\n",
      "    *   **Analogy:** Teaching a dog tricks with treats. The dog tries different actions, and if it does the right thing, it gets a treat, reinforcing that behavior.\n",
      "    *   **Examples:** Training AI to play games (Go, Chess, video games), robotics control, optimizing complex systems.\n",
      "\n",
      "#### 2. Deep Learning (DL):\n",
      "A powerful subset of Machine Learning that uses **Artificial Neural Networks (ANNs)**, which are inspired by the structure and function of the human brain.\n",
      "\n",
      "*   **How it works:** Neural networks consist of multiple \"layers\" of interconnected \"nodes\" (like neurons). Each connection has a \"weight\" that determines the strength of the signal passing through it.\n",
      "    *   **Input Layer:** Receives the raw data.\n",
      "    *   **Hidden Layers (many of them):** These layers process the data, extracting increasingly complex features and patterns. The \"deep\" in deep learning refers to having many hidden layers.\n",
      "    *   **Output Layer:** Provides the final prediction or decision.\n",
      "*   **Analogy:** Imagine a complex Rube Goldberg machine where each part (node) performs a small calculation, and the output of one part becomes the input for the next. The \"weights\" determine how much each part influences the next.\n",
      "*   **Examples:** Facial recognition, natural language translation (Google Translate), self-driving cars, generative AI (like creating realistic images or text).\n",
      "*   **Why it's powerful:** Deep learning excels at handling massive amounts of unstructured data (images, audio, text) and automatically discovering intricate patterns that traditional ML algorithms might miss.\n",
      "\n",
      "---\n",
      "\n",
      "### Why AI is So Powerful Now:\n",
      "\n",
      "1.  **Big Data:** The explosion of digital data provides the necessary fuel for training complex AI models.\n",
      "2.  **Computational Power:** Advances in hardware (especially GPUs – Graphics Processing Units, originally for gaming, now used for parallel processing) allow for rapid training of large neural networks. Cloud computing makes this power accessible.\n",
      "3.  **Improved Algorithms:** Continuous research has led to more efficient and effective algorithms and neural network architectures.\n",
      "\n",
      "---\n",
      "\n",
      "### Simple Analogy: AI as a Student\n",
      "\n",
      "Imagine you want to teach a student (the AI) to distinguish between pictures of cats and dogs.\n",
      "\n",
      "*   **Data:** You give the student thousands of pictures of cats and dogs, each clearly labeled.\n",
      "*   **Algorithm:** You teach the student a \"learning strategy\" – maybe they focus on features like ear shape, snout length, or fur patterns.\n",
      "*   **Training:** The student looks at a picture, makes a guess (\"cat!\"), then you tell them if they were right or wrong. If wrong, they adjust their internal rules for identifying cats and dogs. They repeat this millions of times, getting better with each correction.\n",
      "*   **Inference:** Once trained, you show the student a *new* picture they've never seen before, and they can confidently say, \"That's a dog!\"\n",
      "\n",
      "---\n",
      "\n",
      "In summary, AI doesn't think like a human (yet). It works by **crunching massive datasets with sophisticated algorithms to find patterns, learn from them, and apply that learning to make predictions or decisions on new information.** The more data it has, and the more powerful the algorithms and computing resources, the more intelligent and capable the AI becomes."
     ]
    }
   ],
   "source": [
    "from google import genai\n",
    "\n",
    "client = genai.Client()\n",
    "\n",
    "response = client.models.generate_content_stream(\n",
    "    model=\"gemini-2.5-flash\",\n",
    "    contents=[\"Explain how AI works\"]\n",
    ")\n",
    "for chunk in response:\n",
    "    print(chunk.text, end=\"\")"
   ]
  },
  {
   "cell_type": "markdown",
   "id": "5b96cb10",
   "metadata": {},
   "source": [
    "# Multi-turn conversations (Chat)\n",
    "\n",
    "Note: Chat functionality is only implemented as part of the SDKs. Behind the scenes, it still uses the generateContent API. For multi-turn conversations, the full conversation history is sent to the model with each follow-up turn."
   ]
  },
  {
   "cell_type": "code",
   "execution_count": 1,
   "id": "f092f5c8",
   "metadata": {},
   "outputs": [
    {
     "name": "stdout",
     "output_type": "stream",
     "text": [
      "Oh, how wonderful! Double the love and double the fun, I'm sure!\n",
      "\n",
      "Do you want to tell me anything about them? Like what their names are or what breeds they are?\n",
      "Let's see...\n",
      "\n",
      "If you have 2 dogs, and each dog has 4 paws, then that's:\n",
      "\n",
      "2 dogs * 4 paws/dog = **8 paws** in your house!\n",
      "role - user: I have 2 dogs in my house.\n",
      "role - model: Oh, how wonderful! Double the love and double the fun, I'm sure!\n",
      "\n",
      "Do you want to tell me anything about them? Like what their names are or what breeds they are?\n",
      "role - user: How many paws are in my house?\n",
      "role - model: Let's see...\n",
      "\n",
      "If you have 2 dogs, and each dog has 4 paws, then that's:\n",
      "\n",
      "2 dogs * 4 paws/dog = **8 paws** in your house!\n"
     ]
    }
   ],
   "source": [
    "# https://ai.google.dev/gemini-api/docs/text-generation#multi-turn-conversations\n",
    "\n",
    "\n",
    "from google import genai\n",
    "\n",
    "client = genai.Client()\n",
    "chat = client.chats.create(model=\"gemini-2.5-flash\")\n",
    "\n",
    "response = chat.send_message(\"I have 2 dogs in my house.\")\n",
    "print(response.text)\n",
    "\n",
    "response = chat.send_message(\"How many paws are in my house?\")\n",
    "print(response.text)\n",
    "\n",
    "for message in chat.get_history():\n",
    "    print(f'role - {message.role}',end=\": \")\n",
    "    print(message.parts[0].text)"
   ]
  },
  {
   "cell_type": "code",
   "execution_count": null,
   "id": "6469508e",
   "metadata": {},
   "outputs": [],
   "source": []
  }
 ],
 "metadata": {
  "kernelspec": {
   "display_name": "Python 3",
   "language": "python",
   "name": "python3"
  },
  "language_info": {
   "codemirror_mode": {
    "name": "ipython",
    "version": 3
   },
   "file_extension": ".py",
   "mimetype": "text/x-python",
   "name": "python",
   "nbconvert_exporter": "python",
   "pygments_lexer": "ipython3",
   "version": "3.11.11"
  }
 },
 "nbformat": 4,
 "nbformat_minor": 5
}
