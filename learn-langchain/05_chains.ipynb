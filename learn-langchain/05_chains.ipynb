{
 "cells": [
  {
   "cell_type": "code",
   "execution_count": null,
   "id": "1bd91fb1",
   "metadata": {},
   "outputs": [],
   "source": []
  },
  {
   "cell_type": "code",
   "execution_count": 1,
   "id": "395e0187",
   "metadata": {},
   "outputs": [],
   "source": [
    "import getpass\n",
    "import os\n",
    "\n",
    "if \"GOOGLE_API_KEY\" not in os.environ:\n",
    "    os.environ[\"GOOGLE_API_KEY\"] = getpass.getpass(\"Enter your Google AI API key: \")\n",
    "\n",
    "\n",
    "\n",
    "from langchain_google_genai import ChatGoogleGenerativeAI\n",
    "\n",
    "llm = ChatGoogleGenerativeAI(\n",
    "    model=\"gemini-2.0-flash-lite\",\n",
    "    temperature=0,\n",
    "    max_tokens=None,\n",
    "    timeout=None,\n",
    "    max_retries=2,\n",
    "    # other params...\n",
    ")"
   ]
  },
  {
   "cell_type": "code",
   "execution_count": 2,
   "id": "cde1ee6f",
   "metadata": {},
   "outputs": [
    {
     "data": {
      "text/plain": [
       "AIMessage(content=\"Here's the translation:\\n\\n*   **Tamil:** நான் புரோகிராமிங்கை விரும்புகிறேன். (Naan programming-ai virumbugiren.)\\n*   **Telugu:** నేను ప్రోగ్రామింగ్ని ప్రేమిస్తున్నాను. (Nenu programming-ni premistunnanu.)\", additional_kwargs={}, response_metadata={'prompt_feedback': {'block_reason': 0, 'safety_ratings': []}, 'finish_reason': 'STOP', 'model_name': 'gemini-2.0-flash-lite', 'safety_ratings': []}, id='run--471c7c5c-4127-41dc-a2a4-62bb4306c7ea-0', usage_metadata={'input_tokens': 22, 'output_tokens': 79, 'total_tokens': 101, 'input_token_details': {'cache_read': 0}})"
      ]
     },
     "execution_count": 2,
     "metadata": {},
     "output_type": "execute_result"
    }
   ],
   "source": [
    "messages = [\n",
    "    (\n",
    "        \"system\",\n",
    "        \"You are a helpful assistant that translates English to Tamil and Telugu. Translate the user sentence.\",\n",
    "    ),\n",
    "    (\"human\", \"I love programming.\"),\n",
    "]\n",
    "ai_msg = llm.invoke(messages)\n",
    "ai_msg"
   ]
  },
  {
   "cell_type": "markdown",
   "id": "167ae28c",
   "metadata": {},
   "source": [
    "# 1. Simple Chain"
   ]
  },
  {
   "cell_type": "code",
   "execution_count": 3,
   "id": "4bfae5c4",
   "metadata": {},
   "outputs": [
    {
     "name": "stdout",
     "output_type": "stream",
     "text": [
      "Elephants are the largest land animals on Earth.\n"
     ]
    }
   ],
   "source": [
    "from langchain.prompts import ChatPromptTemplate\n",
    "from langchain.schema.output_parser import StrOutputParser\n",
    "\n",
    "\n",
    "prompt_template = ChatPromptTemplate.from_messages(\n",
    "    [\n",
    "        (\"system\", \"You are a facts expert who knows facts about {animal}.\"),\n",
    "        (\"human\", \"Tell me {fact_count} facts.\"),\n",
    "    ]\n",
    ")\n",
    "\n",
    "# Create the combined chain using LangChain Expression Language (LCEL)\n",
    "chain = prompt_template | llm | StrOutputParser()\n",
    "# chain = prompt_template | llm\n",
    "\n",
    "# Run the chain\n",
    "result = chain.invoke({\"animal\": \"elephant\", \"fact_count\": 1})\n",
    "\n",
    "# Output\n",
    "print(result)"
   ]
  },
  {
   "cell_type": "markdown",
   "id": "db6c1759",
   "metadata": {},
   "source": [
    "# 2. Chains Internal Working"
   ]
  },
  {
   "cell_type": "code",
   "execution_count": 4,
   "id": "a578a92e",
   "metadata": {},
   "outputs": [
    {
     "name": "stdout",
     "output_type": "stream",
     "text": [
      "Alright, here are two purr-fect facts about cats:\n",
      "\n",
      "1.  **Cats can jump up to six times their height!** That's like a human leaping over a small car!\n",
      "2.  **A cat's nose is as unique as a human fingerprint.** No two cats have the same pattern of ridges and bumps on their nose.\n"
     ]
    }
   ],
   "source": [
    "from langchain.schema.runnable import RunnableLambda, RunnableSequence\n",
    "from langchain.prompts import ChatPromptTemplate\n",
    "\n",
    "\n",
    "prompt_template = ChatPromptTemplate.from_messages(\n",
    "     [\n",
    "        (\"system\", \"You love facts and you tell facts about {animal}\"),\n",
    "        (\"human\", \"Tell me {count} facts.\"),\n",
    "    ]\n",
    ")\n",
    "\n",
    "# Create individual runnables (steps in the chain)\n",
    "format_prompt = RunnableLambda(lambda x: prompt_template.format_prompt(**x))\n",
    "invoke_model = RunnableLambda(lambda x: llm.invoke(x.to_messages()))\n",
    "parse_output = RunnableLambda(lambda x: x.content)\n",
    "\n",
    "# Create the RunnableSequence (equivalent to the LCEL chain)\n",
    "chain = RunnableSequence(first=format_prompt, middle=[invoke_model], last=parse_output)\n",
    "\n",
    "# Run the chain\n",
    "response = chain.invoke({\"animal\": \"cat\", \"count\": 2})\n",
    "\n",
    "# Output\n",
    "print(response)"
   ]
  },
  {
   "cell_type": "markdown",
   "id": "eca41e2c",
   "metadata": {},
   "source": [
    "## Option 1: Use LCEL (Recommended)\n",
    "The pipe operator (|) is much cleaner for multiple components:"
   ]
  },
  {
   "cell_type": "code",
   "execution_count": 5,
   "id": "a67d9435",
   "metadata": {},
   "outputs": [
    {
     "name": "stdout",
     "output_type": "stream",
     "text": [
      "ALRIGHT, HERE ARE TWO PURR-FECT FACTS ABOUT CATS:\n",
      "\n",
      "1.  **CATS CAN JUMP UP TO SIX TIMES THEIR HEIGHT!** THAT'S LIKE A HUMAN LEAPING OVER A SMALL CAR!\n",
      "2.  **A CAT'S NOSE IS AS UNIQUE AS A HUMAN FINGERPRINT.** NO TWO CATS HAVE THE SAME PATTERN OF RIDGES AND BUMPS ON THEIR NOSE.\n"
     ]
    }
   ],
   "source": [
    "from langchain.schema.runnable import RunnableLambda\n",
    "from langchain.prompts import ChatPromptTemplate\n",
    "\n",
    "prompt_template = ChatPromptTemplate.from_messages([\n",
    "    (\"system\", \"You love facts and you tell facts about {animal}\"),\n",
    "    (\"human\", \"Tell me {count} facts.\"),\n",
    "])\n",
    "\n",
    "# Create individual runnables\n",
    "format_prompt = RunnableLambda(lambda x: prompt_template.format_prompt(**x))\n",
    "invoke_model = RunnableLambda(lambda x: llm.invoke(x.to_messages()))\n",
    "add_metadata = RunnableLambda(lambda x: {\"content\": x.content, \"timestamp\": \"2024\"})\n",
    "extract_content = RunnableLambda(lambda x: x[\"content\"])\n",
    "uppercase_output = RunnableLambda(lambda x: x.upper())\n",
    "\n",
    "# Chain them with LCEL - much cleaner!\n",
    "chain = format_prompt | invoke_model | add_metadata | extract_content | uppercase_output\n",
    "\n",
    "response = chain.invoke({\"animal\": \"cat\", \"count\": 2})\n",
    "print(response)"
   ]
  },
  {
   "cell_type": "markdown",
   "id": "da27f4f7",
   "metadata": {},
   "source": []
  },
  {
   "cell_type": "markdown",
   "id": "4c80e390",
   "metadata": {},
   "source": []
  },
  {
   "cell_type": "markdown",
   "id": "79038daf",
   "metadata": {},
   "source": [
    "## Option 2: RunnableSequence with All Components in Middle\n",
    "Put all intermediate steps in the middle list:"
   ]
  },
  {
   "cell_type": "code",
   "execution_count": 6,
   "id": "47e2dfa4",
   "metadata": {},
   "outputs": [
    {
     "name": "stdout",
     "output_type": "stream",
     "text": [
      "ALRIGHT, HERE ARE TWO PURR-FECT FACTS ABOUT CATS:\n",
      "\n",
      "1.  **CATS CAN JUMP UP TO SIX TIMES THEIR HEIGHT!** THAT'S LIKE A HUMAN LEAPING OVER A CAR!\n",
      "2.  **A CAT'S NOSE IS AS UNIQUE AS A HUMAN FINGERPRINT.** NO TWO CATS HAVE THE SAME PATTERN OF RIDGES AND BUMPS ON THEIR NOSE.\n"
     ]
    }
   ],
   "source": [
    "from langchain.schema.runnable import RunnableSequence\n",
    "\n",
    "# All intermediate steps go in middle\n",
    "chain = RunnableSequence(\n",
    "    first=format_prompt,\n",
    "    middle=[invoke_model, add_metadata, extract_content],  # Multiple components here\n",
    "    last=uppercase_output\n",
    ")\n",
    "\n",
    "response = chain.invoke({\"animal\": \"cat\", \"count\": 2})\n",
    "print(response)"
   ]
  },
  {
   "cell_type": "markdown",
   "id": "3b2fbbf2",
   "metadata": {},
   "source": [
    "## Option 3: Create from List\n",
    "You can create a sequence from a list of runnables:"
   ]
  },
  {
   "cell_type": "code",
   "execution_count": 9,
   "id": "1a3bde7d",
   "metadata": {},
   "outputs": [
    {
     "name": "stdout",
     "output_type": "stream",
     "text": [
      "ALRIGHT, HERE ARE TWO PURR-FECT FACTS ABOUT CATS:\n",
      "\n",
      "1.  **CATS CAN JUMP UP TO SIX TIMES THEIR HEIGHT.** THAT'S LIKE A HUMAN LEAPING OVER A CAR!\n",
      "2.  **A CAT'S NOSE IS AS UNIQUE AS A HUMAN FINGERPRINT.** NO TWO CATS HAVE THE SAME NOSE PATTERN.\n"
     ]
    }
   ],
   "source": [
    "from langchain.schema.runnable import RunnableSequence\n",
    "\n",
    "# Create from list\n",
    "components = [\n",
    "    format_prompt,\n",
    "    invoke_model, \n",
    "    add_metadata,\n",
    "    extract_content,\n",
    "    uppercase_output\n",
    "]\n",
    "\n",
    "chain = RunnableSequence(*components)\n",
    "\n",
    "response = chain.invoke({\"animal\": \"cat\", \"count\": 2})\n",
    "print(response)"
   ]
  },
  {
   "cell_type": "code",
   "execution_count": null,
   "id": "e4d634c0",
   "metadata": {},
   "outputs": [],
   "source": []
  }
 ],
 "metadata": {
  "kernelspec": {
   "display_name": "Python 3",
   "language": "python",
   "name": "python3"
  },
  "language_info": {
   "codemirror_mode": {
    "name": "ipython",
    "version": 3
   },
   "file_extension": ".py",
   "mimetype": "text/x-python",
   "name": "python",
   "nbconvert_exporter": "python",
   "pygments_lexer": "ipython3",
   "version": "3.11.11"
  }
 },
 "nbformat": 4,
 "nbformat_minor": 5
}
