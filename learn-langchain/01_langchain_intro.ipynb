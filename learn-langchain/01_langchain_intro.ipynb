{
 "cells": [
  {
   "cell_type": "markdown",
   "id": "87b98681",
   "metadata": {},
   "source": [
    "![langchain_star_history](../assets/images/langchain_star_history.png)"
   ]
  },
  {
   "cell_type": "markdown",
   "id": "63c88769",
   "metadata": {},
   "source": [
    "# LangChain\n",
    "LangChain is a framework for developing applications powered by large language models (LLMs).\n",
    "\n",
    "> LangChain is one of the most popular open source libraries for AI Engineers. It's goal is to abstract away the complexity in building AI software, provide easy-to-use building blocks, and make it easier when switching between AI service providers."
   ]
  },
  {
   "cell_type": "markdown",
   "id": "bb63bb75",
   "metadata": {},
   "source": [
    "![langchain_architecture.png](..\\assets\\images\\langchain_architecture.png)"
   ]
  },
  {
   "cell_type": "markdown",
   "id": "ad43aa74",
   "metadata": {},
   "source": [
    "## LangChain Architecture\n",
    "https://python.langchain.com/docs/concepts/architecture/"
   ]
  },
  {
   "cell_type": "markdown",
   "id": "5889429d",
   "metadata": {},
   "source": [
    "## Why LangChain?\n",
    "https://python.langchain.com/docs/concepts/why_langchain/"
   ]
  },
  {
   "cell_type": "markdown",
   "id": "472962bc",
   "metadata": {},
   "source": []
  },
  {
   "cell_type": "markdown",
   "id": "65e49e4e",
   "metadata": {},
   "source": [
    "### LangChain use cases\n",
    "\n",
    "Applications made with LangChain provide great utility for a variety of use cases, from straightforward question-answering and text generation tasks to more complex solutions that use an LLM as a “reasoning engine.”\n",
    "\n",
    "- **Chatbots:** Chatbots are among the most intuitive uses of LLMs. LangChain can be used to provide proper context for the specific use of a chatbot, and to integrate chatbots into existing communication channels and workflows with their own APIs.\n",
    "    \n",
    "- **Summarization:** Language models can be tasked with summarizing many types of text, from breaking down complex academic articles and transcripts to providing a digest of incoming emails.\n",
    "    \n",
    "- **Question answering**: Using specific documents or specialized knowledge bases (like Wolfram, arXiv or PubMed), LLMs can retrieve relevant information from storage and articulate helpful answers). If fine-tuned or properly prompted, some LLMs can answer many questions even without external information.\n",
    "    \n",
    "- **Data augmentation:** LLMs can be used to generate synthetic data for use in machine learning. For example, an LLM can be trained to generate additional data samples that closely resemble the data points in a training dataset.\n",
    "    \n",
    "- **Virtual agents**: Integrated with the right workflows, LangChain’s Agent modules can use an LLM to autonomously determine next steps and take action using robotic process automation (RPA).\n"
   ]
  },
  {
   "cell_type": "markdown",
   "id": "2f86f275",
   "metadata": {},
   "source": [
    "![langchain_components.png](../assets/images/langchain_components.png)"
   ]
  },
  {
   "cell_type": "markdown",
   "id": "273ac798",
   "metadata": {},
   "source": [
    "## LangChain Components\n",
    "\n",
    "https://python.langchain.com/docs/concepts/"
   ]
  },
  {
   "cell_type": "markdown",
   "id": "21339082",
   "metadata": {},
   "source": []
  }
 ],
 "metadata": {
  "language_info": {
   "name": "python"
  }
 },
 "nbformat": 4,
 "nbformat_minor": 5
}
