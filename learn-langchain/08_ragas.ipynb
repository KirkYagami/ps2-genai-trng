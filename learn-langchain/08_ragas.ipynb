{
 "cells": [
  {
   "cell_type": "code",
   "execution_count": 1,
   "id": "053d8209",
   "metadata": {},
   "outputs": [],
   "source": [
    "# !pip install -q ragas"
   ]
  },
  {
   "cell_type": "markdown",
   "id": "1faf5363",
   "metadata": {},
   "source": [
    "## Simple Evaluation of RAG with Ragas"
   ]
  },
  {
   "cell_type": "markdown",
   "id": "d8444f08",
   "metadata": {},
   "source": [
    "### Resources\n",
    "1. https://bishalbose294.medium.com/demystifying-ragas-a-deep-dive-into-evaluating-retrieval-augmented-generation-pipelines-part-3-e6ba7541543c\n",
    "\n",
    "2. https://docs.ragas.io/en/v0.1.21/concepts/index.html\n",
    "3. https://namratanwani.medium.com/evaluate-rag-with-ragas-e1ad1aa99c2e\n"
   ]
  },
  {
   "cell_type": "code",
   "execution_count": 3,
   "id": "e1613398",
   "metadata": {},
   "outputs": [],
   "source": [
    "import os\n",
    "import openai\n",
    "from ragas import evaluate\n",
    "from datasets import Dataset \n",
    "from dotenv import load_dotenv\n",
    "\n",
    "from langchain_openai import ChatOpenAI\n",
    "\n",
    "from langchain_google_genai import ChatGoogleGenerativeAI\n",
    "\n",
    "from langchain.chains import RetrievalQA\n",
    "from langchain.prompts import PromptTemplate\n",
    "\n",
    "from langchain_community.vectorstores import Chroma\n",
    "from langchain_experimental.text_splitter import SemanticChunker\n",
    "from langchain_community.document_loaders import SeleniumURLLoader\n",
    "from langchain_community.embeddings.sentence_transformer import SentenceTransformerEmbeddings\n",
    "from ragas.metrics import faithfulness, answer_relevancy, context_precision, context_recall, context_entity_recall, answer_similarity, answer_correctness\n"
   ]
  },
  {
   "cell_type": "code",
   "execution_count": 5,
   "id": "4b9a5b5d",
   "metadata": {},
   "outputs": [
    {
     "name": "stderr",
     "output_type": "stream",
     "text": [
      "ERROR: pip's dependency resolver does not currently take into account all the packages that are installed. This behaviour is the source of the following dependency conflicts.\n",
      "google-generativeai 0.8.4 requires google-ai-generativelanguage==0.6.15, but you have google-ai-generativelanguage 0.6.18 which is incompatible.\n"
     ]
    }
   ],
   "source": [
    "# !pip install -q selenium"
   ]
  },
  {
   "cell_type": "code",
   "execution_count": 7,
   "id": "056096d8",
   "metadata": {},
   "outputs": [
    {
     "name": "stderr",
     "output_type": "stream",
     "text": [
      "ERROR: pip's dependency resolver does not currently take into account all the packages that are installed. This behaviour is the source of the following dependency conflicts.\n",
      "gradio 5.23.3 requires aiofiles<24.0,>=22.0, but you have aiofiles 24.1.0 which is incompatible.\n"
     ]
    }
   ],
   "source": [
    "# !pip install -q unstructured"
   ]
  },
  {
   "cell_type": "code",
   "execution_count": 8,
   "id": "bd8f7d8e",
   "metadata": {},
   "outputs": [],
   "source": [
    "load_dotenv()\n",
    "\n",
    "\n",
    "urls = [\n",
    "    \"https://en.wikipedia.org/wiki/New_York_City\",\n",
    "    \"https://en.wikipedia.org/wiki/Snow_leopard\",\n",
    "    \"https://www.britannica.com/place/Galapagos-Islands\",\n",
    "    \"https://www.birdlife.org/birds/penguins/#:~:text=The%20threats%20are%20numerous%2C%20including,is%20melting%20before%20their%20eyes.\"\n",
    "]\n",
    "\n",
    "# collect data using selenium url loader\n",
    "loader = SeleniumURLLoader(urls=urls)\n",
    "documents = loader.load()"
   ]
  },
  {
   "cell_type": "markdown",
   "id": "62a6870a",
   "metadata": {},
   "source": [
    "These documents need to be transformed to string for preprocessing and ultimately, arranged as a list of string rather than list of documents."
   ]
  },
  {
   "cell_type": "code",
   "execution_count": 9,
   "id": "36d0c89a",
   "metadata": {},
   "outputs": [],
   "source": [
    "documentList = []\n",
    "for doc in documents:\n",
    "    d = str(doc.page_content).replace(\"\\\\n\", \" \").replace(\"\\\\t\",\" \").replace(\"\\n\", \" \").replace(\"\\t\", \" \")\n",
    "    documentList.append(d)"
   ]
  },
  {
   "cell_type": "markdown",
   "id": "f497fb71",
   "metadata": {},
   "source": [
    "We now perform sematic chunking which simply creates chunks of documents based on semantic similarity between sentences. Two sentences will fall in the same chunk if they are semantically similar. To find semantically similar data, we require dense embeddings of sentences, therefore, we use sentence transformers all-MiniLM-L6-v2 model to generate these embeddings.\n",
    "\n",
    "Further, these chunked documents are stored as in Chroma’s vector store in a folder called chroma_db. We utilize the same sentence transformers model to store these documents as embeddings."
   ]
  },
  {
   "cell_type": "code",
   "execution_count": 10,
   "id": "b1d4c36d",
   "metadata": {},
   "outputs": [
    {
     "name": "stderr",
     "output_type": "stream",
     "text": [
      "C:\\Users\\NikhilSharma\\AppData\\Local\\Temp\\ipykernel_68\\1772832570.py:1: LangChainDeprecationWarning: The class `HuggingFaceEmbeddings` was deprecated in LangChain 0.2.2 and will be removed in 1.0. An updated version of the class exists in the :class:`~langchain-huggingface package and should be used instead. To use it run `pip install -U :class:`~langchain-huggingface` and import as `from :class:`~langchain_huggingface import HuggingFaceEmbeddings``.\n",
      "  embedding_function = SentenceTransformerEmbeddings(model_name=\"all-MiniLM-L6-v2\")\n",
      "C:\\Users\\NikhilSharma\\AppData\\Local\\Temp\\ipykernel_68\\1772832570.py:8: LangChainDeprecationWarning: The class `Chroma` was deprecated in LangChain 0.2.9 and will be removed in 1.0. An updated version of the class exists in the :class:`~langchain-chroma package and should be used instead. To use it run `pip install -U :class:`~langchain-chroma` and import as `from :class:`~langchain_chroma import Chroma``.\n",
      "  vector_store = Chroma(persist_directory=\"./chroma_db\", embedding_function=embedding_function)\n"
     ]
    }
   ],
   "source": [
    "embedding_function = SentenceTransformerEmbeddings(model_name=\"all-MiniLM-L6-v2\")\n",
    "text_splitter = SemanticChunker(embedding_function)\n",
    "docs = text_splitter.create_documents(documentList)\n",
    "\n",
    "# storing embeddings in a folder\n",
    "vector_store = Chroma.from_documents(docs, embedding_function, persist_directory=\"./chroma_db\")\n",
    "# use this to load vector database\n",
    "vector_store = Chroma(persist_directory=\"./chroma_db\", embedding_function=embedding_function)\n"
   ]
  },
  {
   "cell_type": "code",
   "execution_count": 11,
   "id": "7416550f",
   "metadata": {},
   "outputs": [],
   "source": [
    "PROMPT_TEMPLATE = \"\"\"\n",
    "Go through the context and answer given question strictly based on context. \n",
    "Context: {context}\n",
    "Question: {question}\n",
    "Answer:\n",
    "\"\"\"\n",
    "llm = ChatGoogleGenerativeAI(model=\"gemini-2.5-flash\", temperature=0)\n",
    "qa_chain = RetrievalQA.from_chain_type(\n",
    "        llm = llm,\n",
    "        # retriever=vector_store.as_retriever(search_kwargs={'k': 3}),\n",
    "        retriever=vector_store.as_retriever(),\n",
    "        return_source_documents=True,\n",
    "        chain_type_kwargs={\"prompt\": PromptTemplate.from_template(PROMPT_TEMPLATE)}\n",
    "    )"
   ]
  },
  {
   "cell_type": "markdown",
   "id": "ee506330",
   "metadata": {},
   "source": [
    "\n",
    "We define our queries and ground truths for evaluation."
   ]
  },
  {
   "cell_type": "code",
   "execution_count": 12,
   "id": "a19ac9ba",
   "metadata": {},
   "outputs": [],
   "source": [
    "queries = [\n",
    "    \"Who discovered the Galapagos Islands and how?\",\n",
    "    \"What is Brooklyn–Battery Tunnel?\",\n",
    "    \"Are Penguins found in the Galapagos Islands?\",\n",
    "    \"How many languages are spoken in New York?\",\n",
    "    \"In which countries are snow leopards found?\",\n",
    "    \"What are the threats to penguin populations?\",\n",
    "    \"What is the economic significance of New York City?\",\n",
    "    \"How did New York City get its name?\",\n",
    "    \"How did Galapagos Islands get its name?\",\n",
    "    \"What is the significance of the Statue of Liberty in New York City?\",\n",
    "    \n",
    "]\n",
    "\n",
    "ground_truths = [\n",
    "    \"The Galapagos Islands were discovered in 1535 by the bishop of Panama, Tomás de Berlanga, whose ship had drifted off course while en route to Peru. He named them Las Encantadas (“The Enchanted”), and in his writings he marveled at the thousands of large galápagos (tortoises) found there. Numerous Spanish voyagers stopped at the islands from the 16th century, and the Galapagos also came to be used by pirates and by whale and seal hunters. \",\n",
    "    \"The Brooklyn-Battery Tunnel (officially known as the Hugh L. Carey Tunnel) is the longest continuous underwater vehicular tunnel in North America and runs underneath Battery Park, connecting the Financial District in Lower Manhattan to Red Hook in Brooklyn.[586]\",\n",
    "    \"Penguins live on the galapagos islands side by side with tropical animals.\",\n",
    "    \"As many as 800 languages are spoken in New York.\",\n",
    "    \"Siberia, Tajikistan, Kyrgyzstan, Uzbekistan, Kazakhstan, Afghanistan, Pakistan, India, Nepal, Bhutan, Mongolia, and Tibet.\",\n",
    "    \"The threats are numerous, including habitat loss, pollution, disease, and reduced food availability due to commercial fishing. Climate change is of particular concern for many species of penguin, as the sea ice that they depend on to find food or build nests is melting before their eyes.\",\n",
    "    \"New York City's economic significance is vast, as it serves as the global financial capital, housing Wall Street and major financial institutions. Its diverse economy spans technology, media, healthcare, education, and more, making it resilient to economic fluctuations. NYC is a hub for international business, attracting global companies, and boasts a large, skilled labor force. Its real estate market, tourism, cultural industries, and educational institutions further fuel its economic prowess. The city's transportation network and global influence amplify its impact on the world stage, solidifying its status as a vital economic player and cultural epicenter.\",\n",
    "    \"New York City got its name when it came under British control in 1664. King Charles II of England granted the lands to his brother, the Duke of York, who named the city New York in his own honor.\",\n",
    "    \"Tomás de Berlanga, who discovered the islands, named them Las Encantadas (“The Enchanted”), and in his writings he marveled at the thousands of large galápagos (tortoises) found there. Numerous Spanish voyagers stopped at the islands from the 16th century, and the Galapagos also came to be used by pirates and by whale and seal hunters.\",\n",
    "    \"The Statue of Liberty in New York City holds great significance as a symbol of the United States and its ideals of liberty and peace. It greeted millions of immigrants who arrived in the U.S. by ship in the late 19th and early 20th centuries, representing hope and freedom for those seeking a better life. It has since become an iconic landmark and a global symbol of cultural diversity and freedom.\",\n",
    "    \n",
    "]"
   ]
  },
  {
   "cell_type": "markdown",
   "id": "bf9393ca",
   "metadata": {},
   "source": [
    "Finally, we generate results and store context supplied to the LLM."
   ]
  },
  {
   "cell_type": "code",
   "execution_count": 13,
   "id": "346b01b6",
   "metadata": {},
   "outputs": [
    {
     "name": "stderr",
     "output_type": "stream",
     "text": [
      "C:\\Users\\NikhilSharma\\AppData\\Local\\Temp\\ipykernel_68\\545104327.py:4: LangChainDeprecationWarning: The method `Chain.__call__` was deprecated in langchain 0.1.0 and will be removed in 1.0. Use :meth:`~invoke` instead.\n",
      "  result = qa_chain({\"query\": query})\n"
     ]
    }
   ],
   "source": [
    "results = []\n",
    "contexts = []\n",
    "for query in queries:\n",
    "    result = qa_chain({\"query\": query})\n",
    "   \n",
    "    results.append(result['result'])\n",
    "    sources = result[\"source_documents\"]\n",
    "    contents = []\n",
    "    for i in range(len(sources)):\n",
    "        contents.append(sources[i].page_content)\n",
    "    contexts.append(contents)"
   ]
  },
  {
   "cell_type": "markdown",
   "id": "1781821b",
   "metadata": {},
   "source": [
    "The evaluation dataset is prepared as a dictionary and the evaluation metrics are calculated for each query using Ragas. These scores are further stored as a csv file."
   ]
  },
  {
   "cell_type": "code",
   "execution_count": 14,
   "id": "392b5144",
   "metadata": {},
   "outputs": [
    {
     "data": {
      "application/vnd.jupyter.widget-view+json": {
       "model_id": "ff46d5c4730243368c636fe0582f8476",
       "version_major": 2,
       "version_minor": 0
      },
      "text/plain": [
       "Evaluating:   0%|          | 0/70 [00:00<?, ?it/s]"
      ]
     },
     "metadata": {},
     "output_type": "display_data"
    }
   ],
   "source": [
    "\n",
    "d = {\n",
    "    \"question\": queries,\n",
    "    \"answer\": results,\n",
    "    \"contexts\": contexts,\n",
    "    \"ground_truth\": ground_truths\n",
    "}\n",
    "\n",
    "dataset = Dataset.from_dict(d)\n",
    "score = evaluate(dataset,metrics=[faithfulness, answer_relevancy, context_precision, context_recall, context_entity_recall, answer_similarity, answer_correctness,])\n",
    "score_df = score.to_pandas()\n",
    "score_df.to_csv(\"EvaluationScores.csv\", encoding=\"utf-8\", index=False)"
   ]
  },
  {
   "cell_type": "code",
   "execution_count": 15,
   "id": "f500eab2",
   "metadata": {},
   "outputs": [
    {
     "data": {
      "application/vnd.microsoft.datawrangler.viewer.v0+json": {
       "columns": [
        {
         "name": "index",
         "rawType": "object",
         "type": "string"
        },
        {
         "name": "0",
         "rawType": "float64",
         "type": "float"
        }
       ],
       "ref": "597df70a-ecf8-4822-9aa7-c2a54b18ae4d",
       "rows": [
        [
         "faithfulness",
         "0.9666666666666666"
        ],
        [
         "answer_relevancy",
         "0.9853953471220415"
        ],
        [
         "context_precision",
         "0.7083333332752777"
        ],
        [
         "context_recall",
         "0.8666666666666666"
        ],
        [
         "context_entity_recall",
         "0.22607142822179277"
        ],
        [
         "answer_similarity",
         "0.9452481306717153"
        ],
        [
         "answer_correctness",
         "0.7671457015688937"
        ]
       ],
       "shape": {
        "columns": 1,
        "rows": 7
       }
      },
      "text/plain": [
       "faithfulness             0.966667\n",
       "answer_relevancy         0.985395\n",
       "context_precision        0.708333\n",
       "context_recall           0.866667\n",
       "context_entity_recall    0.226071\n",
       "answer_similarity        0.945248\n",
       "answer_correctness       0.767146\n",
       "dtype: float64"
      ]
     },
     "execution_count": 15,
     "metadata": {},
     "output_type": "execute_result"
    }
   ],
   "source": [
    "score_df[['faithfulness','answer_relevancy', 'context_precision', 'context_recall',\n",
    "       'context_entity_recall', 'answer_similarity', 'answer_correctness']].mean(axis=0)"
   ]
  },
  {
   "cell_type": "markdown",
   "id": "09df1613",
   "metadata": {},
   "source": [
    "The RAG pipeline exhibits strong performance in terms of faithfulness, answer relevancy, context recall, and answer similarity. However, there are areas for improvement, particularly in context entity recall, context precision, answer correctness, to enhance the overall quality and accuracy of the responses generated by the model."
   ]
  },
  {
   "cell_type": "code",
   "execution_count": null,
   "id": "ebe39b99",
   "metadata": {},
   "outputs": [],
   "source": []
  }
 ],
 "metadata": {
  "kernelspec": {
   "display_name": "Python 3",
   "language": "python",
   "name": "python3"
  },
  "language_info": {
   "codemirror_mode": {
    "name": "ipython",
    "version": 3
   },
   "file_extension": ".py",
   "mimetype": "text/x-python",
   "name": "python",
   "nbconvert_exporter": "python",
   "pygments_lexer": "ipython3",
   "version": "3.11.11"
  }
 },
 "nbformat": 4,
 "nbformat_minor": 5
}
