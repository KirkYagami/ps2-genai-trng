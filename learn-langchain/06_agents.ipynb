{
 "cells": [
  {
   "cell_type": "code",
   "execution_count": null,
   "id": "f11c87d1",
   "metadata": {},
   "outputs": [],
   "source": []
  },
  {
   "cell_type": "code",
   "execution_count": null,
   "id": "95db98bc",
   "metadata": {},
   "outputs": [],
   "source": [
    "import getpass\n",
    "import os\n",
    "\n",
    "if \"GOOGLE_API_KEY\" not in os.environ:\n",
    "    os.environ[\"GOOGLE_API_KEY\"] = getpass.getpass(\"Enter your Google AI API key: \")\n",
    "\n",
    "from langchain_google_genai import ChatGoogleGenerativeAI\n",
    "\n",
    "llm = ChatGoogleGenerativeAI(\n",
    "    model=\"gemini-2.5-flash\",\n",
    "    temperature=0,\n",
    "    max_tokens=None,\n",
    "    timeout=None,\n",
    "    max_retries=2,\n",
    "    # other params...\n",
    ")"
   ]
  },
  {
   "cell_type": "markdown",
   "id": "b88a6658",
   "metadata": {},
   "source": [
    "# Basics"
   ]
  },
  {
   "cell_type": "code",
   "execution_count": 8,
   "id": "163c23ca",
   "metadata": {},
   "outputs": [
    {
     "name": "stderr",
     "output_type": "stream",
     "text": [
      "c:\\Users\\NikhilSharma\\.conda\\envs\\llms2\\Lib\\site-packages\\langsmith\\client.py:272: LangSmithMissingAPIKeyWarning: API key must be provided when using hosted LangSmith API\n",
      "  warnings.warn(\n"
     ]
    },
    {
     "name": "stdout",
     "output_type": "stream",
     "text": [
      "\n",
      "\n",
      "\u001b[1m> Entering new AgentExecutor chain...\u001b[0m\n",
      "\u001b[32;1m\u001b[1;3mAction: get_system_time\n",
      "Action Input: %H:%M:%S\u001b[0m\u001b[36;1m\u001b[1;3m14:46:33\u001b[0m\u001b[32;1m\u001b[1;3mThought: The user wants to know the current time in California, USA. I have already obtained the current system time, which is 14:46:33. This time is in India Standard Time (IST).\n",
      "India Standard Time (IST) is UTC+5:30.\n",
      "California observes Pacific Time. During Daylight Saving Time (which is currently active in May), it observes Pacific Daylight Time (PDT), which is UTC-7.\n",
      "The time difference between IST and PDT is 5.5 hours (IST to UTC) + 7 hours (UTC to PDT) = 12.5 hours.\n",
      "To get California time, I need to subtract 12 hours and 30 minutes from the current India time.\n",
      "\n",
      "Current India time: 14:46:33\n",
      "Subtract 12 hours: 14:46:33 - 12:00:00 = 02:46:33\n",
      "Subtract 30 minutes: 02:46:33 - 00:30:00 = 02:16:33\n",
      "\n",
      "So, the current time in California is 02:16:33.\n",
      "I now know the final answer\n",
      "Final Answer: 02:16:33\u001b[0m\n",
      "\n",
      "\u001b[1m> Finished chain.\u001b[0m\n"
     ]
    },
    {
     "data": {
      "text/plain": [
       "{'input': 'What is the current time in California, USA? (You are in India). Just show the current time and not the date',\n",
       " 'output': '02:16:33'}"
      ]
     },
     "execution_count": 8,
     "metadata": {},
     "output_type": "execute_result"
    }
   ],
   "source": [
    "from langchain_core.prompts import PromptTemplate\n",
    "from langchain.schema.output_parser import StrOutputParser\n",
    "from langchain import hub\n",
    "from langchain.agents import create_react_agent, AgentExecutor\n",
    "from langchain.agents import tool\n",
    "\n",
    "import datetime\n",
    "\n",
    "\n",
    "@tool\n",
    "def get_system_time(format: str = \"%Y-%m-%d %H:%M:%S\"):\n",
    "    \"\"\" Returns the current date and time in the specified format \"\"\"\n",
    "\n",
    "    current_time = datetime.datetime.now()\n",
    "    formatted_time = current_time.strftime(format)\n",
    "    return formatted_time\n",
    "\n",
    "query = \"What is the current time in California, USA? (You are in India). Just show the current time and not the date\"\n",
    "\n",
    "prompt_template = hub.pull(\"hwchase17/react\")\n",
    "\n",
    "tools = [get_system_time]\n",
    "\n",
    "\n",
    "agent = create_react_agent(llm, tools, prompt_template)\n",
    "\n",
    "agent_executor = AgentExecutor(agent=agent, tools=tools, verbose=True)\n",
    "agent_executor.invoke({\"input\": query})"
   ]
  },
  {
   "cell_type": "code",
   "execution_count": null,
   "id": "f09513ca",
   "metadata": {},
   "outputs": [],
   "source": []
  }
 ],
 "metadata": {
  "kernelspec": {
   "display_name": "Python 3",
   "language": "python",
   "name": "python3"
  },
  "language_info": {
   "codemirror_mode": {
    "name": "ipython",
    "version": 3
   },
   "file_extension": ".py",
   "mimetype": "text/x-python",
   "name": "python",
   "nbconvert_exporter": "python",
   "pygments_lexer": "ipython3",
   "version": "3.11.11"
  }
 },
 "nbformat": 4,
 "nbformat_minor": 5
}
