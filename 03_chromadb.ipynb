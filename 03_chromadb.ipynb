{
 "cells": [
  {
   "cell_type": "markdown",
   "id": "9841de15",
   "metadata": {},
   "source": [
    "\n",
    "### What Is a Vector Database?\n",
    "\n",
    "A vector database is a database that allows you to efficiently store and query embedding data. Vector databases extend the capabilities of traditional relational databases to embeddings. However, the key distinguishing feature of a vector database is that query results aren’t an exact match to the query. Instead, using a specified similarity metric, the vector database returns embeddings that are _similar_ to a query.\n",
    "\n",
    "To make this possible, vector databases are equipped with features that balance the speed and accuracy of query results. Here are the core components of a vector database that you should know about:\n",
    "\n",
    "- **Embedding function**: When using a vector database, oftentimes you’ll store and query data in its raw form, rather than uploading embeddings themselves. Internally, the vector database needs to know how to convert your data to embeddings, and you have to specify an embedding function for this. For text, you can use the embedding functions available in the SentenceTransformers library or any other function that maps raw text to vectors.\n",
    "\n",
    "https://docs.trychroma.com/docs/embeddings/embedding-functions\n",
    "\n",
    "    \n",
    "- **Similarity metric**: To assess embedding similarity, you need a similarity metric like cosine similarity, the dot product, or Euclidean distance. \n",
    "    \n",
    "- **Indexing**: When you’re dealing with a large number of embeddings, comparing a query embedding to every embedding stored in the database is often too slow. To overcome this, vector databases employ indexing algorithms that group similar embeddings together.\n",
    "    \n",
    "    At query time, the query embedding is compared to a smaller subset of embeddings based on the index. Because the embeddings recommended by the index aren’t guaranteed to have the highest similarity to the query, this is called approximate nearest neighbor search.\n",
    "    \n",
    "- **Metadata**: You can store metadata with each embedding to help give context and make query results more precise. You can filter your embedding searches on metadata much like you would in a relational database. For example, you could store the year that a document was published as metadata and only look for similar documents that were published in a given year.\n",
    "    \n",
    "- **Storage location**: With any kind of database, you need a place to store the data. Vector databases can store embeddings and metadata both in memory and on disk. Keeping data in memory allows for faster reads and writes, while writing to disk is important for persistent storage.\n",
    "    \n",
    "- **CRUD operations**: Most vector databases support create, read, update, and delete (CRUD) operations. This means you can maintain and interact with data like you would in a relational database.\n"
   ]
  },
  {
   "cell_type": "markdown",
   "id": "57ae20fa",
   "metadata": {},
   "source": [
    "> https://cookbook.chromadb.dev/core/concepts/#tenancy-and-db-hierarchies"
   ]
  },
  {
   "cell_type": "code",
   "execution_count": 2,
   "id": "7a7adbdc",
   "metadata": {},
   "outputs": [],
   "source": [
    "import chromadb\n",
    "from chromadb.utils import embedding_functions\n",
    "\n",
    "CHROMA_DATA_PATH = \"chroma_data/\"\n",
    "EMBED_MODEL = \"all-MiniLM-L6-v2\"\n",
    "COLLECTION_NAME = \"demo_docs\"\n",
    "\n",
    "client = chromadb.PersistentClient(path=CHROMA_DATA_PATH)"
   ]
  },
  {
   "cell_type": "markdown",
   "id": "fd17b34b",
   "metadata": {},
   "source": [
    "Instantiate a `PersistentClient` object that writes your embedding data to `CHROMA_DB_PATH`. By doing this, you ensure that data will be stored at `CHROMA_DB_PATH` and persist to new clients. Alternatively, you can use `chromadb.Client()` to instantiate a ChromaDB instance that only writes to memory and doesn’t persist on disk."
   ]
  },
  {
   "cell_type": "code",
   "execution_count": null,
   "id": "f45481e0",
   "metadata": {},
   "outputs": [],
   "source": [
    "embedding_func = embedding_functions.SentenceTransformerEmbeddingFunction(\n",
    "    model_name=EMBED_MODEL\n",
    ")\n",
    "\n",
    "\n",
    "collection = client.create_collection(\n",
    "    name=COLLECTION_NAME,\n",
    "    embedding_function=embedding_func,\n",
    "    metadata={\"hnsw:space\": \"cosine\"},\n",
    ")"
   ]
  },
  {
   "cell_type": "markdown",
   "id": "d4935012",
   "metadata": {},
   "source": [
    " ChromaDB will use `embedding_func` to embed all your documents and queries. We will use the `\"all-MiniLM-L6-v2\"` model. \n",
    "\n",
    "A collection is the object that stores your embedded documents along with any associated metadata. If you’re familiar with relational databases, then you can think of a collection as a table. In this example, your collection is named `demo_docs`, it uses the `\"all-MiniLM-L6-v2\"` embedding function that you instantiated, and it uses the cosine similarity distance function as specified by `metadata={\"hnsw:space\": \"cosine\"}`."
   ]
  },
  {
   "cell_type": "code",
   "execution_count": null,
   "id": "9644d6ad",
   "metadata": {},
   "outputs": [],
   "source": [
    "documents = [\n",
    "    \"The latest iPhone model comes with impressive features and a powerful camera.\",\n",
    "    \"Exploring the beautiful beaches and vibrant culture of Bali is a dream for many travelers.\",\n",
    "    \"Einstein's theory of relativity revolutionized our understanding of space and time.\",\n",
    "    \"Traditional Italian pizza is famous for its thin crust, fresh ingredients, and wood-fired ovens.\",\n",
    "    \"The American Revolution had a profound impact on the birth of the United States as a nation.\",\n",
    "    \"Regular exercise and a balanced diet are essential for maintaining good physical health.\",\n",
    "    \"Leonardo da Vinci's Mona Lisa is considered one of the most iconic paintings in art history.\",\n",
    "    \"Climate change poses a significant threat to the planet's ecosystems and biodiversity.\",\n",
    "    \"Startup companies often face challenges in securing funding and scaling their operations.\",\n",
    "    \"Beethoven's Symphony No. 9 is celebrated for its powerful choral finale, 'Ode to Joy.'\",\n",
    "]\n",
    "\n",
    "genres = [\n",
    "    \"technology\",\n",
    "    \"travel\",\n",
    "    \"science\",\n",
    "    \"food\",\n",
    "    \"history\",\n",
    "    \"fitness\",\n",
    "    \"art\",\n",
    "    \"climate change\",\n",
    "    \"business\",\n",
    "    \"music\",\n",
    "]\n",
    "\n",
    "collection.add(\n",
    "    documents=documents,\n",
    "    ids=[f\"id{i}\" for i in range(len(documents))],\n",
    "    metadatas=[{\"genre\": g} for g in genres]\n",
    ")"
   ]
  },
  {
   "cell_type": "markdown",
   "id": "4ff4691c",
   "metadata": {},
   "source": [
    "\n",
    "Each document in the `documents` argument is embedded and stored in the collection. We also have to define the `ids` argument to uniquely identify each document and embedding in the collection. \n",
    "\n",
    "The `metadatas` argument is optional, but most of the time, it’s useful to store metadata with your embeddings. In this case, you define a single metadata field, `\"genre\"`, that records the genre of each document. When you query a document, metadata provides you with additional information that can be helpful to better understand the document’s contents. You can also filter on metadata fields, just like you would in a relational database query.\n"
   ]
  },
  {
   "cell_type": "code",
   "execution_count": 30,
   "id": "b5e88c94",
   "metadata": {},
   "outputs": [
    {
     "data": {
      "text/plain": [
       "dict_keys(['ids', 'embeddings', 'documents', 'uris', 'data', 'metadatas', 'distances', 'included'])"
      ]
     },
     "execution_count": 30,
     "metadata": {},
     "output_type": "execute_result"
    }
   ],
   "source": [
    "query_results = collection.query(\n",
    "    query_texts=[\"Find me some delicious food!\"],\n",
    "    n_results=3,\n",
    ")\n",
    "\n",
    "query_results.keys()"
   ]
  },
  {
   "cell_type": "code",
   "execution_count": 31,
   "id": "c776605d",
   "metadata": {},
   "outputs": [
    {
     "data": {
      "text/plain": [
       "[['Traditional Italian pizza is famous for its thin crust, fresh ingredients, and wood-fired ovens.',\n",
       "  'Regular exercise and a balanced diet are essential for maintaining good physical health.',\n",
       "  'The latest iPhone model comes with impressive features and a powerful camera.']]"
      ]
     },
     "execution_count": 31,
     "metadata": {},
     "output_type": "execute_result"
    }
   ],
   "source": [
    "\n",
    "query_results[\"documents\"]"
   ]
  },
  {
   "cell_type": "code",
   "execution_count": 8,
   "id": "537ccce7",
   "metadata": {},
   "outputs": [
    {
     "data": {
      "text/plain": [
       "[['id3']]"
      ]
     },
     "execution_count": 8,
     "metadata": {},
     "output_type": "execute_result"
    }
   ],
   "source": [
    "query_results[\"ids\"]"
   ]
  },
  {
   "cell_type": "code",
   "execution_count": 32,
   "id": "85d84076",
   "metadata": {},
   "outputs": [
    {
     "data": {
      "text/plain": [
       "[[0.7638263154594184, 0.8916084950503539, 0.9402363378027034]]"
      ]
     },
     "execution_count": 32,
     "metadata": {},
     "output_type": "execute_result"
    }
   ],
   "source": [
    "query_results[\"distances\"]"
   ]
  },
  {
   "cell_type": "code",
   "execution_count": 10,
   "id": "1b02817f",
   "metadata": {},
   "outputs": [
    {
     "data": {
      "text/plain": [
       "[[{'genre': 'food'}]]"
      ]
     },
     "execution_count": 10,
     "metadata": {},
     "output_type": "execute_result"
    }
   ],
   "source": [
    "query_results[\"metadatas\"]"
   ]
  },
  {
   "cell_type": "markdown",
   "id": "826bbf55",
   "metadata": {},
   "source": [
    "The results returned by `collection.query()` are stored in a dictionary with the keys `ids`, `distances`, `metadatas`, `embeddings`, and `documents`. This is the same information that you added to your collection at the beginning, but it’s filtered down to match your query. In other words, `collection.query()` returns all of the stored information about documents that are most similar to your query."
   ]
  },
  {
   "cell_type": "markdown",
   "id": "5ca14bf8",
   "metadata": {},
   "source": [
    "As you can see, the embedding for _Traditional Italian pizza is famous for its thin crust, fresh ingredients, and wood-fired ovens_ was most similar to the query _Find me some delicious food_. You probably agree that this document is the closest match. You can also see the ID, metadata, and distance associated with the matching document embedding. Here, you’re using **cosine distance**, which is one minus the cosine similarity between two embeddings."
   ]
  },
  {
   "cell_type": "code",
   "execution_count": 33,
   "id": "77ac00a0",
   "metadata": {},
   "outputs": [],
   "source": [
    "query_results = collection.query(\n",
    "    query_texts=[\"Teach me about history\",\n",
    "                 \"What's going on in the world?\"],\n",
    "    include=[\"documents\", \"distances\"],\n",
    "    n_results=2\n",
    ")"
   ]
  },
  {
   "cell_type": "code",
   "execution_count": 34,
   "id": "0e7cbf31",
   "metadata": {},
   "outputs": [
    {
     "data": {
      "text/plain": [
       "{'ids': [['id4', 'id6'], ['id7', 'id4']],\n",
       " 'embeddings': None,\n",
       " 'documents': [['The American Revolution had a profound impact on the birth of the United States as a nation.',\n",
       "   \"Leonardo da Vinci's Mona Lisa is considered one of the most iconic paintings in art history.\"],\n",
       "  [\"Climate change poses a significant threat to the planet's ecosystems and biodiversity.\",\n",
       "   'The American Revolution had a profound impact on the birth of the United States as a nation.']],\n",
       " 'uris': None,\n",
       " 'data': None,\n",
       " 'metadatas': None,\n",
       " 'distances': [[0.690419353119635, 0.8771601214338468],\n",
       "  [0.8002943811335208, 0.940292131950362]],\n",
       " 'included': [<IncludeEnum.distances: 'distances'>,\n",
       "  <IncludeEnum.documents: 'documents'>]}"
      ]
     },
     "execution_count": 34,
     "metadata": {},
     "output_type": "execute_result"
    }
   ],
   "source": [
    "query_results"
   ]
  },
  {
   "cell_type": "code",
   "execution_count": null,
   "id": "4e991cfb",
   "metadata": {},
   "outputs": [],
   "source": []
  },
  {
   "cell_type": "code",
   "execution_count": 12,
   "id": "065c432b",
   "metadata": {},
   "outputs": [
    {
     "data": {
      "text/plain": [
       "[\"Einstein's theory of relativity revolutionized our understanding of space and time.\",\n",
       " 'The American Revolution had a profound impact on the birth of the United States as a nation.']"
      ]
     },
     "execution_count": 12,
     "metadata": {},
     "output_type": "execute_result"
    }
   ],
   "source": [
    "query_results[\"documents\"][0]"
   ]
  },
  {
   "cell_type": "code",
   "execution_count": 36,
   "id": "07a0d9cd",
   "metadata": {},
   "outputs": [
    {
     "data": {
      "text/plain": [
       "[0.690419353119635, 0.8771601214338468]"
      ]
     },
     "execution_count": 36,
     "metadata": {},
     "output_type": "execute_result"
    }
   ],
   "source": [
    "query_results[\"distances\"][0]"
   ]
  },
  {
   "cell_type": "code",
   "execution_count": 14,
   "id": "80c638f5",
   "metadata": {},
   "outputs": [
    {
     "data": {
      "text/plain": [
       "[0.8002943811335208, 0.8882107242437847]"
      ]
     },
     "execution_count": 14,
     "metadata": {},
     "output_type": "execute_result"
    }
   ],
   "source": [
    "query_results[\"distances\"][1]\n"
   ]
  },
  {
   "cell_type": "code",
   "execution_count": 15,
   "id": "cbf9d073",
   "metadata": {},
   "outputs": [
    {
     "data": {
      "text/plain": [
       "[\"Climate change poses a significant threat to the planet's ecosystems and biodiversity.\",\n",
       " \"Einstein's theory of relativity revolutionized our understanding of space and time.\"]"
      ]
     },
     "execution_count": 15,
     "metadata": {},
     "output_type": "execute_result"
    }
   ],
   "source": [
    "query_results[\"documents\"][1]"
   ]
  },
  {
   "cell_type": "code",
   "execution_count": 37,
   "id": "7f9ae9cc",
   "metadata": {},
   "outputs": [
    {
     "name": "stdout",
     "output_type": "stream",
     "text": [
      "\n",
      "🔍 Query 1: \"Teach me about history\"\n",
      "------------------------------------------------------------\n",
      "Result 1:\n",
      "📄 Document: The American Revolution had a profound impact on the birth of the United States as a nation.\n",
      "📏 Distance: 0.6904\n",
      "\n",
      "Result 2:\n",
      "📄 Document: Leonardo da Vinci's Mona Lisa is considered one of the most iconic paintings in art history.\n",
      "📏 Distance: 0.8772\n",
      "\n",
      "\n",
      "🔍 Query 2: \"What's going on in the world?\"\n",
      "------------------------------------------------------------\n",
      "Result 1:\n",
      "📄 Document: Climate change poses a significant threat to the planet's ecosystems and biodiversity.\n",
      "📏 Distance: 0.8003\n",
      "\n",
      "Result 2:\n",
      "📄 Document: The American Revolution had a profound impact on the birth of the United States as a nation.\n",
      "📏 Distance: 0.9403\n",
      "\n"
     ]
    }
   ],
   "source": [
    "def display_query_results(query_texts, query_results):\n",
    "    for i, query in enumerate(query_texts):\n",
    "        print(f\"\\n🔍 Query {i + 1}: \\\"{query}\\\"\\n{'-' * 60}\")\n",
    "        documents = query_results[\"documents\"][i]\n",
    "        distances = query_results[\"distances\"][i]\n",
    "\n",
    "        for j, (doc, dist) in enumerate(zip(documents, distances), start=1):\n",
    "            print(f\"Result {j}:\")\n",
    "            print(f\"📄 Document: {doc}\")\n",
    "            print(f\"📏 Distance: {dist:.4f}\")\n",
    "            print()\n",
    "\n",
    "\n",
    "query_texts = [\n",
    "    \"Teach me about history\",\n",
    "    \"What's going on in the world?\"\n",
    "]\n",
    "\n",
    "display_query_results(query_texts, query_results)\n"
   ]
  },
  {
   "cell_type": "markdown",
   "id": "efeb2835",
   "metadata": {},
   "source": [
    "\n",
    "> **Note:** Keep in mind that so-called similar documents returned from a semantic search over embeddings may not actually be relevant to the task that you’re trying to solve. The success of a semantic search is somewhat subjective, and you or your stakeholders might not agree on the quality of the results.\n",
    "\n",
    "> If there are no relevant documents in your collection for a given query, or your embedding algorithm wasn’t trained on the right or enough data, then your results might be poor. It’s up to you to understand your application, your stakeholders’ expectations, and the limitations of your embedding algorithm and document collection."
   ]
  },
  {
   "cell_type": "markdown",
   "id": "ad8f4c58",
   "metadata": {},
   "source": [
    "Another awesome feature of ChromaDB is the ability to filter queries on metadata. "
   ]
  },
  {
   "cell_type": "code",
   "execution_count": 39,
   "id": "27fc5a9f",
   "metadata": {},
   "outputs": [
    {
     "data": {
      "text/plain": [
       "{'ids': [['id9']],\n",
       " 'embeddings': None,\n",
       " 'documents': [[\"Beethoven's Symphony No. 9 is celebrated for its powerful choral finale, 'Ode to Joy.'\"]],\n",
       " 'uris': None,\n",
       " 'data': None,\n",
       " 'metadatas': [[{'genre': 'music'}]],\n",
       " 'distances': [[0.818632941929768]],\n",
       " 'included': [<IncludeEnum.distances: 'distances'>,\n",
       "  <IncludeEnum.documents: 'documents'>,\n",
       "  <IncludeEnum.metadatas: 'metadatas'>]}"
      ]
     },
     "execution_count": 39,
     "metadata": {},
     "output_type": "execute_result"
    }
   ],
   "source": [
    "collection.query(\n",
    "    query_texts=[\"Teach me about music history\"],\n",
    "    n_results=1\n",
    ")\n"
   ]
  },
  {
   "cell_type": "markdown",
   "id": "fdea1dc3",
   "metadata": {},
   "source": [
    "\n",
    "Your query is _Teach me about music history_, and the most similar document is _Einstein’s theory of relativity revolutionized our understanding of space and time_. While Einstein is a historical figure who was a [musician](https://en.wikipedia.org/wiki/Albert_Einstein#Love_of_music) and teacher, this isn’t quite the result that you’re looking for. Because you’re particularly interested in music history, you can filter on the `\"genre\"` metadata field to search over more relevant documents:"
   ]
  },
  {
   "cell_type": "code",
   "execution_count": 18,
   "id": "cb237627",
   "metadata": {},
   "outputs": [
    {
     "data": {
      "text/plain": [
       "{'ids': [['id9']],\n",
       " 'embeddings': None,\n",
       " 'documents': [[\"Beethoven's Symphony No. 9 is celebrated for its powerful choral finale, 'Ode to Joy.'\"]],\n",
       " 'uris': None,\n",
       " 'data': None,\n",
       " 'metadatas': [[{'genre': 'music'}]],\n",
       " 'distances': [[0.818632941929768]],\n",
       " 'included': [<IncludeEnum.distances: 'distances'>,\n",
       "  <IncludeEnum.documents: 'documents'>,\n",
       "  <IncludeEnum.metadatas: 'metadatas'>]}"
      ]
     },
     "execution_count": 18,
     "metadata": {},
     "output_type": "execute_result"
    }
   ],
   "source": [
    "collection.query(\n",
    "    query_texts=[\"Teach me about music history\"],\n",
    "    where={\"genre\": {\"$eq\": \"music\"}},\n",
    "    n_results=1,\n",
    ")"
   ]
  },
  {
   "cell_type": "markdown",
   "id": "f726bf6d",
   "metadata": {},
   "source": [
    "In this query, you specify in the where argument that you’re only looking for documents with the \"music\" genre. To apply filters, ChromaDB expects a dictionary where the keys are metadata names and the values are dictionaries specifying how to filter. In plain English, you can interpret {\"genre\": {\"$eq\": \"music\"}} as filter the collection where the \"genre\" metadata field equals \"music\".In this query, you specify in the `where` argument that you’re only looking for documents with the `\"music\"` genre. To apply filters, ChromaDB expects a dictionary where the keys are metadata names and the values are dictionaries specifying how to filter. In plain English, you can interpret `{\"genre\": {\"$eq\": \"music\"}}` as _filter the collection where the `\"genre\"` metadata field equals `\"music\"`_."
   ]
  },
  {
   "cell_type": "code",
   "execution_count": 19,
   "id": "9e5dcc88",
   "metadata": {},
   "outputs": [
    {
     "data": {
      "text/plain": [
       "[[\"Beethoven's Symphony No. 9 is celebrated for its powerful choral finale, 'Ode to Joy.'\",\n",
       "  'The American Revolution had a profound impact on the birth of the United States as a nation.']]"
      ]
     },
     "execution_count": 19,
     "metadata": {},
     "output_type": "execute_result"
    }
   ],
   "source": [
    "query_results = collection.query(\n",
    "    query_texts=[\"Teach me about music history\"],\n",
    "    where={\"genre\": {\"$in\": [\"music\", \"history\"]}},\n",
    "    n_results=2,\n",
    ")\n",
    "\n",
    "query_results[\"documents\"]"
   ]
  },
  {
   "cell_type": "code",
   "execution_count": 20,
   "id": "d3e62cc2",
   "metadata": {},
   "outputs": [
    {
     "data": {
      "text/plain": [
       "[[0.818632941929768, 0.8200414277884167]]"
      ]
     },
     "execution_count": 20,
     "metadata": {},
     "output_type": "execute_result"
    }
   ],
   "source": [
    "query_results[\"distances\"]"
   ]
  },
  {
   "cell_type": "markdown",
   "id": "0cc2a498",
   "metadata": {},
   "source": [
    "https://cookbook.chromadb.dev/core/filters/"
   ]
  },
  {
   "cell_type": "markdown",
   "id": "94e4819e",
   "metadata": {},
   "source": [
    "If you want to update existing documents, embeddings, or metadata, then you can use `collection.update()`. This requires you to know the IDs of the data that you want to update. In this example, you’ll update both the documents and metadata for `\"id1\"` and `\"id2\"`:"
   ]
  },
  {
   "cell_type": "code",
   "execution_count": 41,
   "id": "c50379c5",
   "metadata": {},
   "outputs": [],
   "source": [
    "collection.upsert(\n",
    "    ids=[\"id1\", \"id2\"],\n",
    "    documents=[\"The new iPhone is awesome!\",\n",
    "               \"Bali has beautiful beaches\"],\n",
    "    metadatas=[{\"genre\": \"tech\"}, {\"genre\": \"beaches\"}]\n",
    ")"
   ]
  },
  {
   "cell_type": "code",
   "execution_count": 25,
   "id": "15d49d09",
   "metadata": {},
   "outputs": [
    {
     "data": {
      "text/plain": [
       "['The new iPhone is awesome!', 'Bali has beautiful beaches']"
      ]
     },
     "execution_count": 25,
     "metadata": {},
     "output_type": "execute_result"
    }
   ],
   "source": [
    "query_results = collection.get(ids=[\"id1\", \"id2\"])\n",
    "\n",
    "query_results['documents']"
   ]
  },
  {
   "cell_type": "markdown",
   "id": "e090d320",
   "metadata": {},
   "source": [
    "Renamed the documents for `\"id1\"` and `\"id2\"`, and you also modified their metadata. \n",
    "\n",
    "If you’re not sure whether a document exists for an ID, you can use `collection.upsert()`. This works the same way as `collection.update()`, except it’ll insert new documents for IDs that don’t exist."
   ]
  },
  {
   "cell_type": "code",
   "execution_count": 26,
   "id": "5002e5b0",
   "metadata": {},
   "outputs": [
    {
     "data": {
      "text/plain": [
       "8"
      ]
     },
     "execution_count": 26,
     "metadata": {},
     "output_type": "execute_result"
    }
   ],
   "source": [
    "collection.delete(ids=[\"id1\", \"id2\"])\n",
    "\n",
    "collection.count()"
   ]
  },
  {
   "cell_type": "code",
   "execution_count": 42,
   "id": "bf9a0f18",
   "metadata": {},
   "outputs": [
    {
     "data": {
      "text/plain": [
       "{'ids': ['id1', 'id2'],\n",
       " 'embeddings': None,\n",
       " 'documents': ['The new iPhone is awesome!', 'Bali has beautiful beaches'],\n",
       " 'uris': None,\n",
       " 'data': None,\n",
       " 'metadatas': [{'genre': 'tech'}, {'genre': 'beaches'}],\n",
       " 'included': [<IncludeEnum.documents: 'documents'>,\n",
       "  <IncludeEnum.metadatas: 'metadatas'>]}"
      ]
     },
     "execution_count": 42,
     "metadata": {},
     "output_type": "execute_result"
    }
   ],
   "source": [
    "collection.get([\"id1\", \"id2\"])"
   ]
  },
  {
   "cell_type": "code",
   "execution_count": null,
   "id": "eb24a181",
   "metadata": {},
   "outputs": [],
   "source": []
  }
 ],
 "metadata": {
  "kernelspec": {
   "display_name": "Python 3",
   "language": "python",
   "name": "python3"
  },
  "language_info": {
   "codemirror_mode": {
    "name": "ipython",
    "version": 3
   },
   "file_extension": ".py",
   "mimetype": "text/x-python",
   "name": "python",
   "nbconvert_exporter": "python",
   "pygments_lexer": "ipython3",
   "version": "3.11.11"
  }
 },
 "nbformat": 4,
 "nbformat_minor": 5
}
